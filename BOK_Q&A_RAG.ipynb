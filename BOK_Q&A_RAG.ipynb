{
 "cells": [
  {
   "cell_type": "markdown",
   "metadata": {},
   "source": [
    "## Loading, Chunking"
   ]
  },
  {
   "cell_type": "code",
   "execution_count": 7,
   "metadata": {},
   "outputs": [],
   "source": [
    "from langchain.document_loaders import DirectoryLoader, TextLoader, CSVLoader\n",
    "\n",
    "# QA Data\n",
    "loader = CSVLoader(\"qa_data.csv\")\n",
    "qa_documents = loader.load()"
   ]
  },
  {
   "cell_type": "code",
   "execution_count": 8,
   "metadata": {},
   "outputs": [],
   "source": [
    "# Annual Report Data\n",
    "path = '/Users/jaesolshin/Documents/GitHub/bokbot/rectified_text_2023_2.txt'\n",
    "loader = TextLoader(path)\n",
    "ar_documents = loader.load()\n",
    "\n",
    "## Chunking\n",
    "import re #정규표현식\n",
    "from langchain.text_splitter import RecursiveCharacterTextSplitter #스플리터\n",
    "\n",
    "text_splitter = RecursiveCharacterTextSplitter(\n",
    "    chunk_size=200,   # 원하는 청크 크기 설정\n",
    "    chunk_overlap=50,  # 중첩되는 토큰 수\n",
    "    separators=[\"\\n\\n\", \"\\n\", \". \", \"? \", \"! \"]  # 사용자 정의 분할 함수 추가\n",
    ")\n",
    "\n",
    "splitted_ar_documents = text_splitter.split_documents(ar_documents)\n",
    "\n",
    "# 분할 후 각 문서의 내용을 정리. 문장이 마침표로 시작하면 마침표 제거, 문장이 마침표로 끝나지 않으면 마침표 추가.\n",
    "for i in range(len(splitted_ar_documents)):\n",
    "    splitted_ar_documents[i].page_content = splitted_ar_documents[i].page_content.strip('. ').strip()\n",
    "    if not splitted_ar_documents[i].page_content.endswith('.'):\n",
    "        splitted_ar_documents[i].page_content += '.'\n",
    "\n",
    "# SentenceTransformer 적재를 위해 Document 객체에서 텍스트 추출\n",
    "ar_texts = [doc.page_content for doc in splitted_ar_documents]        "
   ]
  },
  {
   "cell_type": "markdown",
   "metadata": {},
   "source": [
    "## Embedding"
   ]
  },
  {
   "cell_type": "code",
   "execution_count": 9,
   "metadata": {},
   "outputs": [],
   "source": [
    "from sentence_transformers import SentenceTransformer\n",
    "import faiss\n",
    "from langchain import FAISS\n",
    "import numpy as np\n",
    "\n",
    "encoder_model = SentenceTransformer('jeonseonjin/embedding_BAAI-bge-m3')\n",
    "\n",
    "# 질문-답변 FAISS 인덱스를 임베딩\n",
    "questions = [doc.page_content for doc in qa_documents] #질문쌍만 따로 추출..을 해야 하는데 못했음\n",
    "question_embeddings = encoder_model.encode(questions) #전체 QA 쌍을 임베딩으로 변환\n",
    "index_dim = question_embeddings.shape[1] #변환한 객체의 1024 차원\n",
    "question_index = faiss.IndexFlatIP(index_dim)  #1024 차원 faiss index 객체\n",
    "question_index.add(question_embeddings) #변환한 객체를 index에 추가\n",
    "faiss.write_index(question_index, 'question_index.bin') #QA index\n",
    "\n",
    "# 답변 텍스트 FAISS 인덱스를 별도로 임베딩\n",
    "answers = [doc.page_content[1] for doc in qa_documents] #질문쌍만 따로 추출\n",
    "answer_embeddings = encoder_model.encode(answers) #전체 질문쌍을 임베딩으로 변환\n",
    "answer_index = faiss.IndexFlatIP(index_dim) #1024 차원 faiss index 객체\n",
    "answer_index.add(answer_embeddings) #변환한 객체를 index에 추가\n",
    "faiss.write_index(answer_index, 'answer_index.bin') #A index\n",
    "\n",
    "# 연차보고서 FAISS 인덱스를 임베딩\n",
    "ar_embeddings = encoder_model.encode(ar_texts)\n",
    "ar_index = faiss.IndexFlatIP(index_dim)  \n",
    "ar_index.add(ar_embeddings)\n",
    "faiss.write_index(ar_index, 'ar_index.bin')"
   ]
  },
  {
   "cell_type": "code",
   "execution_count": 10,
   "metadata": {},
   "outputs": [],
   "source": [
    "# FAISS 인덱스에 모든 임베딩 추가 (Inner Product 방식 사용)\n",
    "combined_index = faiss.IndexFlatIP(index_dim)  # IP: 내적 기반 검색\n",
    "combined_index.add(np.array(question_embeddings))\n",
    "combined_index.add(np.array(answer_embeddings))\n",
    "combined_index.add(np.array(ar_embeddings))\n",
    "\n",
    "# 출처 구분을 위한 인덱스 범위 설정\n",
    "num_questions = len(questions)\n",
    "num_answers = len(answers)\n",
    "num_annual_reports = len(ar_texts)"
   ]
  },
  {
   "cell_type": "markdown",
   "metadata": {},
   "source": [
    "## Retrieval"
   ]
  },
  {
   "cell_type": "code",
   "execution_count": 11,
   "metadata": {},
   "outputs": [
    {
     "ename": "TypeError",
     "evalue": "unsupported format string passed to numpy.ndarray.__format__",
     "output_type": "error",
     "traceback": [
      "\u001b[0;31m---------------------------------------------------------------------------\u001b[0m",
      "\u001b[0;31mTypeError\u001b[0m                                 Traceback (most recent call last)",
      "Cell \u001b[0;32mIn[11], line 43\u001b[0m\n\u001b[1;32m     40\u001b[0m         \u001b[38;5;28mprint\u001b[39m(\u001b[38;5;124mf\u001b[39m\u001b[38;5;124m\"\u001b[39m\u001b[38;5;124m연차보고서 내용: \u001b[39m\u001b[38;5;132;01m{\u001b[39;00mar_texts[index_ar[\u001b[38;5;241m0\u001b[39m][\u001b[38;5;241m0\u001b[39m]]\u001b[38;5;132;01m}\u001b[39;00m\u001b[38;5;124m\"\u001b[39m)\n\u001b[1;32m     42\u001b[0m \u001b[38;5;66;03m# 함수 호출 예시\u001b[39;00m\n\u001b[0;32m---> 43\u001b[0m \u001b[43msearch_and_respond\u001b[49m\u001b[43m(\u001b[49m\u001b[38;5;124;43m'\u001b[39;49m\u001b[38;5;124;43m물가안정목표제에 대해\u001b[39;49m\u001b[38;5;124;43m'\u001b[39;49m\u001b[43m)\u001b[49m\n",
      "Cell \u001b[0;32mIn[11], line 9\u001b[0m, in \u001b[0;36msearch_and_respond\u001b[0;34m(query, encoder_model, question_index, answer_index, ar_index, answers, ar_texts, critical_value_1, critical_value_2)\u001b[0m\n\u001b[1;32m      6\u001b[0m distance_questions, index_questions \u001b[38;5;241m=\u001b[39m question_index\u001b[38;5;241m.\u001b[39msearch(np\u001b[38;5;241m.\u001b[39marray(question_embedding), k\u001b[38;5;241m=\u001b[39m\u001b[38;5;241m1\u001b[39m)\n\u001b[1;32m      7\u001b[0m similarity_questions \u001b[38;5;241m=\u001b[39m \u001b[38;5;241m100\u001b[39m\u001b[38;5;241m/\u001b[39m(\u001b[38;5;241m1\u001b[39m\u001b[38;5;241m+\u001b[39mdistance_questions[\u001b[38;5;241m0\u001b[39m][\u001b[38;5;241m0\u001b[39m])  \u001b[38;5;66;03m# 거리 값 그대로 사용\u001b[39;00m\n\u001b[0;32m----> 9\u001b[0m \u001b[38;5;28mprint\u001b[39m(\u001b[38;5;124mf\u001b[39m\u001b[38;5;124m\"\u001b[39m\u001b[38;5;124m질문에 대한 거리: \u001b[39m\u001b[38;5;132;43;01m{\u001b[39;49;00m\u001b[43mdistance_questions\u001b[49m\u001b[38;5;132;43;01m:\u001b[39;49;00m\u001b[38;5;124;43m.4f\u001b[39;49m\u001b[38;5;132;43;01m}\u001b[39;49;00m\u001b[38;5;124m (임계값 1: \u001b[39m\u001b[38;5;132;01m{\u001b[39;00mcritical_value_1\u001b[38;5;132;01m}\u001b[39;00m\u001b[38;5;124m, 임계값 2: \u001b[39m\u001b[38;5;132;01m{\u001b[39;00mcritical_value_2\u001b[38;5;132;01m}\u001b[39;00m\u001b[38;5;124m)\u001b[39m\u001b[38;5;124m\"\u001b[39m)\n\u001b[1;32m     11\u001b[0m \u001b[38;5;28;01mif\u001b[39;00m similarity_questions \u001b[38;5;241m>\u001b[39m critical_value_1:\n\u001b[1;32m     12\u001b[0m     \u001b[38;5;66;03m# 유사한 질문이 있을 경우 해당 질문에 매칭된 답변 출력\u001b[39;00m\n\u001b[1;32m     13\u001b[0m     closest_question \u001b[38;5;241m=\u001b[39m questions[index_questions[\u001b[38;5;241m0\u001b[39m][\u001b[38;5;241m0\u001b[39m]]\n",
      "\u001b[0;31mTypeError\u001b[0m: unsupported format string passed to numpy.ndarray.__format__"
     ]
    }
   ],
   "source": [
    "def search_and_respond(query, encoder_model=encoder_model, question_index=question_index, answer_index=answer_index, ar_index=ar_index, answers=answers, ar_texts=ar_texts, critical_value_1=20, critical_value_2=40):\n",
    "    # 질문에 대한 임베딩 생성\n",
    "    question_embedding = encoder_model.encode([query])\n",
    "\n",
    "    # 질문에 대해 question_index에서 검색\n",
    "    distance_questions, index_questions = question_index.search(np.array(question_embedding), k=1)\n",
    "    similarity_questions = 100/(1+distance_questions[0][0])  # 거리 값 그대로 사용\n",
    "\n",
    "    print(f\"질문에 대한 거리: {distance_questions:.4f} (임계값 1: {critical_value_1}, 임계값 2: {critical_value_2})\")\n",
    "    \n",
    "    if similarity_questions > critical_value_1:\n",
    "        # 유사한 질문이 있을 경우 해당 질문에 매칭된 답변 출력\n",
    "        closest_question = questions[index_questions[0][0]]\n",
    "        corresponding_answer = answers[index_questions[0][0]]\n",
    "        \n",
    "        print(f\"질문에서 찾은 최근접 문장의 거리: {distance_questions:.4f}\")\n",
    "        print(f\"가장 가까운 질문: {closest_question}\")\n",
    "        print(f\"해당 질문에 대한 답변: {corresponding_answer}\")\n",
    "    \n",
    "    # 유사도가 critical_value_1 아래일 경우, 답변에서 재검색\n",
    "    elif similarity_answers > critical_value_2:\n",
    "        print(\"질문에서 유사한 질문을 찾지 못했습니다. 답변에서 다시 검색합니다.\")\n",
    "        \n",
    "        # 답변에서 검색\n",
    "        distance_answers, index_answers = answer_index.search(np.array(question_embedding), k=1)\n",
    "        similarity_questions  = distance_answers[0][0]  # 답변 최근접 문장의 거리 계산\n",
    "        \n",
    "        print(f\"답변에서 찾은 최근접 문장의 거리: {answer_distance:.4f}\")\n",
    "        print(f\"답변: {answers[index_answers[0][0]]}\")\n",
    "    \n",
    "    # 유사도가 critical_value_2 아래일 경우, 연차보고서에서 재검색\n",
    "    else:\n",
    "        print(\"질문에서 유사한 답변을 찾지 못했습니다. 연차보고서에서 다시 검색합니다.\")\n",
    "        \n",
    "        # 연차보고서에서 검색\n",
    "        distance_ar, index_ar = ar_index.search(np.array(question_embedding), k=1)\n",
    "        ar_distance = distance_ar[0][0]  # 보고서 최근접 문장의 거리 계산\n",
    "        \n",
    "        print(f\"연차보고서에서 찾은 최근접 문장의 거리: {ar_distance:.4f}\")\n",
    "        print(f\"연차보고서 내용: {ar_texts[index_ar[0][0]]}\")\n",
    "\n",
    "# 함수 호출 예시\n",
    "search_and_respond('물가안정목표제에 대해')\n"
   ]
  },
  {
   "cell_type": "code",
   "execution_count": null,
   "metadata": {},
   "outputs": [],
   "source": [
    "def search_combined_index(query, encoder_model=encoder_model, combined_index=combined_index, num_questions=num_questions, num_answers=num_answers, questions=questions, answers=answers, ar_texts=ar_texts):\n",
    "    # 질문에 대한 임베딩 생성\n",
    "    question_embedding = encoder_model.encode([query])\n",
    "\n",
    "    # 통합 인덱스에서 검색\n",
    "    distance_combined, index_combined = combined_index.search(np.array(question_embedding), k=1)\n",
    "    combined_distance = distance_combined[0][0]  # 가장 가까운 문장의 거리 계산\n",
    "\n",
    "    # 가장 가까운 문장의 출처 및 출력\n",
    "    closest_index = index_combined[0][0]\n",
    "\n",
    "    if closest_index < num_questions:\n",
    "        source = '질문'\n",
    "        result_text = questions[closest_index]\n",
    "    elif closest_index < num_questions + num_answers:\n",
    "        source = '답변'\n",
    "        result_text = answers[closest_index - num_questions]\n",
    "    else:\n",
    "        source = '연차보고서'\n",
    "        result_text = ar_texts[closest_index - num_questions - num_answers]\n",
    "\n",
    "    # 결과 출력\n",
    "    print(f\"가장 가까운 문장은 {source}에서 찾음.\")\n",
    "    print(f\"거리: {combined_distance:.4f}\")  # 거리 값 그대로 출력\n",
    "    print(f\"내용: {result_text}\")\n",
    "    \n",
    "    return result_text, source\n",
    "\n",
    "# 함수 호출 예시\n",
    "search_combined_index(query='2023년 한국은행의 정책목표는?')"
   ]
  }
 ],
 "metadata": {
  "kernelspec": {
   "display_name": "myenv",
   "language": "python",
   "name": "python3"
  },
  "language_info": {
   "codemirror_mode": {
    "name": "ipython",
    "version": 3
   },
   "file_extension": ".py",
   "mimetype": "text/x-python",
   "name": "python",
   "nbconvert_exporter": "python",
   "pygments_lexer": "ipython3",
   "version": "3.12.6"
  }
 },
 "nbformat": 4,
 "nbformat_minor": 2
}
