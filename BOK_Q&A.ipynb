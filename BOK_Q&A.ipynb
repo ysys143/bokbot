{
 "cells": [
  {
   "cell_type": "code",
   "execution_count": 8,
   "metadata": {},
   "outputs": [],
   "source": [
    "import pandas as pd\n",
    "# 사전정의된 Query-Answer가 담긴 테이블\n",
    "qna_df = pd.read_csv('qa_data.csv')[['질문', '답변']]\n",
    "\n",
    "qna_df['질문'] = qna_df['질문'].apply(lambda x: x.split('질문\\n')[1]) # \"질문\\n\" 제거\n",
    "qna_df['답변'] = qna_df['답변'].apply(lambda x: x.split('답변\\n')[1]) # \"답변\\n\" 제거"
   ]
  },
  {
   "cell_type": "code",
   "execution_count": 10,
   "metadata": {},
   "outputs": [],
   "source": [
    "from sentence_transformers import SentenceTransformer\n",
    "\n",
    "# SentenceTransformer 모델 로드\n",
    "embedding_model = SentenceTransformer('jeonseonjin/embedding_BAAI-bge-m3')\n",
    "\n",
    "# 쿼리 문장들에 대한 임베딩 벡터 생성\n",
    "query_texts = qna_df['질문'].to_list()\n",
    "query_embeddings = embedding_model.encode(query_texts)"
   ]
  },
  {
   "cell_type": "code",
   "execution_count": 11,
   "metadata": {},
   "outputs": [],
   "source": [
    "from sklearn.metrics.pairwise import cosine_similarity\n",
    "import numpy as np\n",
    "\n",
    "# query-answer 함수 정의\n",
    "def qna_answer_to_query(new_query, embedding_model=embedding_model, query_embeddings=query_embeddings, top_k=1, verbose=True):\n",
    "    # 쿼리 임베딩 계산\n",
    "    new_query_embedding = embedding_model.encode([new_query])\n",
    "\n",
    "    \n",
    "    # 코사인 유사도 계산\n",
    "    cos_sim = cosine_similarity(new_query_embedding, query_embeddings)\n",
    "    \n",
    "    # 코사인 유사도 값이 가장 큰 질문의 인덱스 찾기\n",
    "    most_similar_idx = np.argmax(cos_sim)\n",
    "    similarity = np.round(cos_sim[0][most_similar_idx], 2)\n",
    "    \n",
    "    # 가장 비슷한 질문과 답변 가져오기\n",
    "    similar_query = query_texts[most_similar_idx]\n",
    "    similar_answer = qna_df.iloc[most_similar_idx]['답변']\n",
    "    \n",
    "    if verbose == True:\n",
    "        print(\"가장 비슷한 질문 : \", similar_query)\n",
    "        print(\"가장 비슷한 질문의 유사도 : \", similarity)\n",
    "        print(\"가장 비슷한 질문의 답: \", similar_answer)\n",
    "\n",
    "    # 결과 반환\n",
    "    return similar_query, similarity, similar_answer"
   ]
  },
  {
   "cell_type": "code",
   "execution_count": 12,
   "metadata": {},
   "outputs": [
    {
     "name": "stdout",
     "output_type": "stream",
     "text": [
      "가장 비슷한 질문 :  외환 전세계 외환시장의 거래규모\n",
      "가장 비슷한 질문의 유사도 :  0.94\n",
      "가장 비슷한 질문의 답:  세계 외환거래규모와 관련하여 보통 이용하는 통계는 국제결제은행(BIS)의 「세계 외환 및 장외파생상품 시장 거래규모」 조사 결과 자료인데 동 조사는 3년 주기로 실시되고 있습니다. 2017년 1월말 현재 최신 통계는 2016년 4월 기준 BIS 회원국들에 대한 조사 결과로서, 이에 따르면 2016년 4월중 BIS 회원국들의 일평균 외환거래규모(거래금액 기준)는 5조 880억달러(현물환 1조 654억달러, 선물환 7,000억달러, 외환스왑 2조 3,830억달러 등)입니다. 국가별(거주성 기준) 거래 비중은 영국 37.1%, 미국 19.4%, 싱가포르 7.9%, 홍콩 6.7%, 일본 6.1% 등 순이며, 우리나라는 0.7% 정도입니다. 외환거래규모와 관련하여 보다 자세한 자료가 필요한 경우에는 BIS 홈페이지(www.bis.org) 및 한국은행 보도자료 (2016년도 BIS 주관「세계 외환 및 장외파생상품 시장 조사(거래금액 부문)」결과, 2016.9.2)를 참고하시기 바랍니다.\n",
      "  한편, 외환거래규모를 거래동기별로, 즉 위험회피 목적인지 아니면 투기 목적인지 구분한 통계는 공식적으로 발표되고 있지 않습니다. \n",
      "  <세계 외환시장 거래규모(2016년 4월중)>\n",
      "세계 외환시장 거래규모(2016년 4월중)\n",
      "외환상품별\n",
      "일평균 거래규모\n",
      "(십억달러)\n",
      "국가별\n",
      "거래비중(%)\n",
      "현물환\n",
      "1,654\n",
      "영국\n",
      "37.1\n",
      "선물환\n",
      "700\n",
      "미국\n",
      "19.4\n",
      "외환스왑\n",
      "2,383\n",
      "싱가포르\n",
      "7.9\n",
      "통화스왑\n",
      "96\n",
      "홍콩\n",
      "6.7\n",
      "통화옵션 및 기타\n",
      "254\n",
      "일본\n",
      "6.1\n",
      "합계\n",
      "5,088\n",
      "한국\n",
      "0.7\n",
      " \n"
     ]
    },
    {
     "data": {
      "text/plain": [
       "('외환 전세계 외환시장의 거래규모',\n",
       " 0.94,\n",
       " '세계 외환거래규모와 관련하여 보통 이용하는 통계는 국제결제은행(BIS)의 「세계 외환 및 장외파생상품 시장 거래규모」 조사 결과 자료인데 동 조사는 3년 주기로 실시되고 있습니다. 2017년 1월말 현재 최신 통계는 2016년 4월 기준 BIS 회원국들에 대한 조사 결과로서, 이에 따르면 2016년 4월중 BIS 회원국들의 일평균 외환거래규모(거래금액 기준)는 5조 880억달러(현물환 1조 654억달러, 선물환 7,000억달러, 외환스왑 2조 3,830억달러 등)입니다. 국가별(거주성 기준) 거래 비중은 영국 37.1%, 미국 19.4%, 싱가포르 7.9%, 홍콩 6.7%, 일본 6.1% 등 순이며, 우리나라는 0.7% 정도입니다. 외환거래규모와 관련하여 보다 자세한 자료가 필요한 경우에는 BIS 홈페이지(www.bis.org) 및 한국은행 보도자료 (2016년도 BIS 주관「세계 외환 및 장외파생상품 시장 조사(거래금액 부문)」결과, 2016.9.2)를 참고하시기 바랍니다.\\n  한편, 외환거래규모를 거래동기별로, 즉 위험회피 목적인지 아니면 투기 목적인지 구분한 통계는 공식적으로 발표되고 있지 않습니다. \\n  <세계 외환시장 거래규모(2016년 4월중)>\\n세계 외환시장 거래규모(2016년 4월중)\\n외환상품별\\n일평균 거래규모\\n(십억달러)\\n국가별\\n거래비중(%)\\n현물환\\n1,654\\n영국\\n37.1\\n선물환\\n700\\n미국\\n19.4\\n외환스왑\\n2,383\\n싱가포르\\n7.9\\n통화스왑\\n96\\n홍콩\\n6.7\\n통화옵션 및 기타\\n254\\n일본\\n6.1\\n합계\\n5,088\\n한국\\n0.7\\n ')"
      ]
     },
     "execution_count": 12,
     "metadata": {},
     "output_type": "execute_result"
    }
   ],
   "source": [
    "qna_answer_to_query('전세계 외환시장의 거래규모')"
   ]
  },
  {
   "cell_type": "code",
   "execution_count": 14,
   "metadata": {},
   "outputs": [
    {
     "name": "stdout",
     "output_type": "stream",
     "text": [
      "Running on local URL:  http://127.0.0.1:7863\n"
     ]
    },
    {
     "name": "stderr",
     "output_type": "stream",
     "text": [
      "huggingface/tokenizers: The current process just got forked, after parallelism has already been used. Disabling parallelism to avoid deadlocks...\n",
      "To disable this warning, you can either:\n",
      "\t- Avoid using `tokenizers` before the fork if possible\n",
      "\t- Explicitly set the environment variable TOKENIZERS_PARALLELISM=(true | false)\n"
     ]
    },
    {
     "name": "stdout",
     "output_type": "stream",
     "text": [
      "Running on public URL: https://6b3b63e3ba7f964ed0.gradio.live\n",
      "\n",
      "This share link expires in 72 hours. For free permanent hosting and GPU upgrades, run `gradio deploy` from Terminal to deploy to Spaces (https://huggingface.co/spaces)\n"
     ]
    },
    {
     "data": {
      "text/html": [
       "<div><iframe src=\"https://6b3b63e3ba7f964ed0.gradio.live\" width=\"100%\" height=\"500\" allow=\"autoplay; camera; microphone; clipboard-read; clipboard-write;\" frameborder=\"0\" allowfullscreen></iframe></div>"
      ],
      "text/plain": [
       "<IPython.core.display.HTML object>"
      ]
     },
     "metadata": {},
     "output_type": "display_data"
    },
    {
     "data": {
      "text/plain": []
     },
     "execution_count": 14,
     "metadata": {},
     "output_type": "execute_result"
    },
    {
     "name": "stdout",
     "output_type": "stream",
     "text": [
      "가장 비슷한 질문 :  \"지역화폐\" 지역사랑상품권의 발행주체 부도시 한국은행의 보상 여부?\n",
      "가장 비슷한 질문의 유사도 :  0.59\n",
      "가장 비슷한 질문의 답:  지역사랑상품권은 한국은행에서 발행한 법화(法貨)가 아니므로 발행주체의 부도시 한국은행은 이와 관련한 어떠한 보상도 하지 않습니다.\n"
     ]
    }
   ],
   "source": [
    "import gradio as gr\n",
    "\n",
    "# 질문에 대한 답변을 제공하는 함수 (qna_answer_to_query 함수 사용)\n",
    "def chat_with(message, history):\n",
    "    # 사용자의 질문에 대해 full_answer_to_query를 사용하여 답변 생성\n",
    "    response = qna_answer_to_query(message)[2]\n",
    "    \n",
    "    # 질문과 답변을 히스토리에 저장 (history는 대화 히스토리)\n",
    "    history.append((message, response))  \n",
    "    \n",
    "    # Gradio가 (응답, history)를 반환해야 하므로, 대화 기록과 함께 반환\n",
    "    return history, history\n",
    "\n",
    "\n",
    "# Gradio Chatbot 인터페이스 생성\n",
    "with gr.Blocks() as demo:\n",
    "    chatbot = gr.Chatbot()  # 대화 기록을 표시하는 컴포넌트\n",
    "    msg = gr.Textbox(label=\"질문 입력\")  # 질문 입력을 위한 텍스트 박스\n",
    "    clear = gr.Button(\"대화 기록 초기화\")  # 대화 기록 초기화 버튼\n",
    "\n",
    "    # 대화가 시작될 때 실행할 동작 정의\n",
    "    msg.submit(chat_with, inputs=[msg, chatbot], outputs=[chatbot, msg])  # 입력값을 처리 후 출력\n",
    "\n",
    "    # 기록 초기화 버튼 동작 정의\n",
    "    clear.click(lambda: [], None, chatbot, queue=False)  # 대화 기록을 초기화\n",
    "\n",
    "# 앱 실행\n",
    "demo.launch(share=True)\n"
   ]
  }
 ],
 "metadata": {
  "kernelspec": {
   "display_name": "myenv",
   "language": "python",
   "name": "python3"
  },
  "language_info": {
   "codemirror_mode": {
    "name": "ipython",
    "version": 3
   },
   "file_extension": ".py",
   "mimetype": "text/x-python",
   "name": "python",
   "nbconvert_exporter": "python",
   "pygments_lexer": "ipython3",
   "version": "3.12.6"
  }
 },
 "nbformat": 4,
 "nbformat_minor": 2
}
