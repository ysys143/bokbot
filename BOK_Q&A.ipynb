{
 "cells": [
  {
   "cell_type": "code",
   "execution_count": 1,
   "metadata": {},
   "outputs": [],
   "source": [
    "from langchain.document_loaders import CSVLoader\n",
    "loader = CSVLoader(\"qa_data.csv\")\n",
    "documents = loader.load()\n",
    "texts = [doc.page_content for doc in documents]\n"
   ]
  },
  {
   "cell_type": "code",
   "execution_count": 2,
   "metadata": {},
   "outputs": [
    {
     "name": "stderr",
     "output_type": "stream",
     "text": [
      "/opt/anaconda3/envs/myenv/lib/python3.12/site-packages/sentence_transformers/cross_encoder/CrossEncoder.py:13: TqdmWarning: IProgress not found. Please update jupyter and ipywidgets. See https://ipywidgets.readthedocs.io/en/stable/user_install.html\n",
      "  from tqdm.autonotebook import tqdm, trange\n"
     ]
    }
   ],
   "source": [
    "from sentence_transformers import SentenceTransformer\n",
    "\n",
    "model = SentenceTransformer('jeonseonjin/embedding_BAAI-bge-m3')\n",
    "document_embeddings = model.encode(texts)\n"
   ]
  },
  {
   "cell_type": "code",
   "execution_count": 10,
   "metadata": {},
   "outputs": [
    {
     "name": "stdout",
     "output_type": "stream",
     "text": [
      "질문에서 찾은 유사도: 0.0040\n",
      "답변: : 3\n",
      "질문: 질문\n",
      "\"지역화폐\" 지역사랑상품권의 발행주체 부도시 한국은행의 보상 여부?\n",
      "답변: 답변\n",
      "지역사랑상품권은 한국은행에서 발행한 법화(法貨)가 아니므로 발행주체의 부도시 한국은행은 이와 관련한 어떠한 보상도 하지 않습니다.\n"
     ]
    }
   ],
   "source": [
    "import faiss\n",
    "import numpy as np\n",
    "\n",
    "# 질문-답변 FAISS 인덱스를 파일로 저장\n",
    "index = faiss.IndexFlatL2(document_embeddings.shape[1])  \n",
    "index.add(np.array(document_embeddings))\n",
    "faiss.write_index(index, 'faiss_qna_index.bin')\n",
    "\n",
    "# 질문\n",
    "query = '질문 \"지역화폐\" 지역사랑상품권의 발행주체 부도시 한국은행의 보상 여부?'\n",
    "\n",
    "# 질문에 대한 임베딩 생성\n",
    "question_embedding = model.encode([query])\n",
    "\n",
    "# 질문에 대해 FAISS에서 검색\n",
    "D, I = index.search(np.array(question_embedding), k=1)\n",
    "similarity = 1 / (1 + D[0][0])  # 유사도 계산\n",
    "\n",
    "# 유사한 질문이 있을 경우 해당 답변 출력\n",
    "print(f\"질문에서 찾은 유사도: {similarity:.4f}\")\n",
    "print(f\"답변: {texts[I[0][0]]}\")  # texts 리스트에서 해당 인덱스의 텍스트를 찾아 출력\n"
   ]
  },
  {
   "cell_type": "code",
   "execution_count": 27,
   "metadata": {},
   "outputs": [],
   "source": [
    "import faiss\n",
    "import numpy as np\n",
    "\n",
    "# 질문에 대한 답변을 제공하는 함수 정의\n",
    "def get_answer(query, threshold=0.02):\n",
    "\n",
    "    question_embedding = model.encode([query]) # 질문에 대한 임베딩 생성\n",
    "    D, I = index.search(np.array(question_embedding), k=1) # FAISS에서 검색\n",
    "    similarity = 100 / (1 + D[0][0])  # 유사도 계산 (거리가 0에 가까울수록 유사도는 1에 가까움)\n",
    "    answer = texts[I[0][0]]  # 가장 유사한 질문에 해당하는 답변 반환\n",
    "\n",
    "    # 유사도가 threshold 이상일 때만 답변 제공\n",
    "    if similarity >= threshold:\n",
    "        print(f\"질문에서 찾은 유사도: {similarity:.4f}\")\n",
    "        return answer, True\n",
    "    else:\n",
    "        print(f\"질문에서 유사한 결과를 찾지 못했습니다. 유사도: {similarity:.4f}\")\n",
    "        return answer, False\n"
   ]
  },
  {
   "cell_type": "code",
   "execution_count": 28,
   "metadata": {},
   "outputs": [
    {
     "name": "stdout",
     "output_type": "stream",
     "text": [
      "질문에서 찾은 유사도: 0.1330\n"
     ]
    },
    {
     "data": {
      "text/plain": [
       "(': 19\\n질문: 질문\\n외환 매매기준율\\n답변: 답변\\n매매기준율이란 최근 거래일에 외국환중개회사를 통하여 거래가 이루어진 미달러화의 현물환율을 거래량으로 가중 평균하여 산출되는 시장평균환율을 말하며 각 외국환은행은 고객과 외환을 사고 팔 때 이를 기준으로 일정금액을 가감하여 대고객매매율을 정합니다. 즉, 각 외국환은행에서는 수수료 등을 포함하여 일정금액을 정한 후, 고객으로부터 외환을 살(팔) 때 매매기준율에서 이를 차감하여(더하여) 대고객매매율을 결정·고시하고 고객과의 외환거래 시 적용하고 있습니다.\\n한편, 각 외국환은행이 적용하는 대고객매매율은 은행별로 다를 수 있습니다.',\n",
       " True)"
      ]
     },
     "execution_count": 28,
     "metadata": {},
     "output_type": "execute_result"
    }
   ],
   "source": [
    "get_answer('전세계 외환시장의 거래규모')"
   ]
  },
  {
   "cell_type": "code",
   "execution_count": 30,
   "metadata": {},
   "outputs": [
    {
     "name": "stdout",
     "output_type": "stream",
     "text": [
      "Running on local URL:  http://127.0.0.1:7864\n"
     ]
    },
    {
     "name": "stderr",
     "output_type": "stream",
     "text": [
      "huggingface/tokenizers: The current process just got forked, after parallelism has already been used. Disabling parallelism to avoid deadlocks...\n",
      "To disable this warning, you can either:\n",
      "\t- Avoid using `tokenizers` before the fork if possible\n",
      "\t- Explicitly set the environment variable TOKENIZERS_PARALLELISM=(true | false)\n"
     ]
    },
    {
     "name": "stdout",
     "output_type": "stream",
     "text": [
      "Running on public URL: https://c08cbb33456a7d329b.gradio.live\n",
      "\n",
      "This share link expires in 72 hours. For free permanent hosting and GPU upgrades, run `gradio deploy` from Terminal to deploy to Spaces (https://huggingface.co/spaces)\n"
     ]
    },
    {
     "data": {
      "text/html": [
       "<div><iframe src=\"https://c08cbb33456a7d329b.gradio.live\" width=\"100%\" height=\"500\" allow=\"autoplay; camera; microphone; clipboard-read; clipboard-write;\" frameborder=\"0\" allowfullscreen></iframe></div>"
      ],
      "text/plain": [
       "<IPython.core.display.HTML object>"
      ]
     },
     "metadata": {},
     "output_type": "display_data"
    },
    {
     "data": {
      "text/plain": []
     },
     "execution_count": 30,
     "metadata": {},
     "output_type": "execute_result"
    }
   ],
   "source": [
    "import gradio as gr\n",
    "\n",
    "# 질문에 대한 답변을 제공하는 함수 (get_answer 함수 수정)\n",
    "def get_answer_bot(query, chatbot_history):\n",
    "    # FAISS 인덱스에서 유사한 질문을 검색하고 답변을 찾는 로직\n",
    "    # 이 부분은 기존 get_answer 함수의 로직을 사용\n",
    "    question_embedding = model.encode([query])\n",
    "    D, I = index.search(np.array(question_embedding), k=1)\n",
    "    similarity = 100 / (1 + D[0][0])  # 유사도 계산\n",
    "\n",
    "    if similarity >= 0.02:  # 유사도가 임계값 이상일 때 답변 반환\n",
    "        answer = texts[I[0][0]]\n",
    "    else:\n",
    "        answer = \"적절한 답변을 찾지 못했습니다.\"\n",
    "    \n",
    "    # 대화 기록 업데이트\n",
    "    chatbot_history.append((query, answer))  # (질문, 답변)을 대화 기록에 추가\n",
    "    return chatbot_history, \"\"\n",
    "\n",
    "# Gradio Chatbot 인터페이스 생성\n",
    "with gr.Blocks() as demo:\n",
    "    chatbot = gr.Chatbot()  # 대화 기록을 표시하는 컴포넌트\n",
    "    msg = gr.Textbox(label=\"질문 입력\")  # 질문 입력을 위한 텍스트 박스\n",
    "    clear = gr.Button(\"대화 기록 초기화\")  # 대화 기록 초기화 버튼\n",
    "\n",
    "    # 대화가 시작될 때 실행할 동작 정의\n",
    "    msg.submit(get_answer_bot, inputs=[msg, chatbot], outputs=[chatbot, msg])  # 입력값을 처리 후 출력\n",
    "\n",
    "    # 기록 초기화 버튼 동작 정의\n",
    "    clear.click(lambda: [], None, chatbot, queue=False)  # 대화 기록을 초기화\n",
    "\n",
    "# 앱 실행\n",
    "demo.launch(share=True)\n"
   ]
  },
  {
   "cell_type": "code",
   "execution_count": null,
   "metadata": {},
   "outputs": [],
   "source": [
    "질문 \"지역화폐\" 지역사랑상품권의 발행주체 부도시 한국은행의 보상 여부?"
   ]
  }
 ],
 "metadata": {
  "kernelspec": {
   "display_name": "myenv",
   "language": "python",
   "name": "python3"
  },
  "language_info": {
   "codemirror_mode": {
    "name": "ipython",
    "version": 3
   },
   "file_extension": ".py",
   "mimetype": "text/x-python",
   "name": "python",
   "nbconvert_exporter": "python",
   "pygments_lexer": "ipython3",
   "version": "3.12.6"
  }
 },
 "nbformat": 4,
 "nbformat_minor": 2
}
