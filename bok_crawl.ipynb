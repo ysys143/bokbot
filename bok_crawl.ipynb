{
 "cells": [
  {
   "cell_type": "code",
   "execution_count": 99,
   "metadata": {},
   "outputs": [],
   "source": [
    "import pandas as pd"
   ]
  },
  {
   "cell_type": "code",
   "execution_count": 100,
   "metadata": {},
   "outputs": [],
   "source": [
    "from webdriver_manager.chrome import ChromeDriverManager\n",
    "from selenium import webdriver\n",
    "from selenium.webdriver.chrome.service import Service\n",
    "from selenium.webdriver.common.by import By\n",
    "import time\n",
    "\n",
    "\n",
    "# 크롬 드라이버 서비스 설정 및 실행\n",
    "service = Service(ChromeDriverManager().install())\n",
    "driver = webdriver.Chrome(service=service)\n",
    "\n",
    "# URL 열기\n",
    "url = 'https://www.bok.or.kr/portal/singl/newsData/list.do?pageIndex=&targetDepth=3&menuNo=200071&syncMenuChekKey=1&depthSubMain=&subMainAt=&searchCnd=1&searchKwd=&depth2=200699&depth3=200071&date=&sdate=&edate=&sort=1&pageUnit=10'\n",
    "driver.get(url)\n",
    "\n",
    "# 대기 설정\n",
    "driver.implicitly_wait(10)  # 최대 10초 대기\n",
    "\n",
    "# 작업 후 드라이버 종료\n",
    "#driver.quit()"
   ]
  },
  {
   "cell_type": "code",
   "execution_count": 101,
   "metadata": {},
   "outputs": [],
   "source": [
    "page_selector = [\n",
    "None,\n",
    "'#bbsList > div.paginationSet > div > ul > li:nth-child(4) > a > span',\n",
    "'#bbsList > div.paginationSet > div > ul > li:nth-child(5) > a > span',\n",
    "'#bbsList > div.paginationSet > div > ul > li:nth-child(6) > a > span'\n",
    "]"
   ]
  },
  {
   "cell_type": "code",
   "execution_count": 102,
   "metadata": {},
   "outputs": [
    {
     "name": "stdout",
     "output_type": "stream",
     "text": [
      "retrieving page..\n",
      "retrieving page..\n",
      "retrieving page..\n",
      "retrieving page..\n"
     ]
    }
   ],
   "source": [
    "post_list = []\n",
    "\n",
    "for selector in page_selector:\n",
    "\n",
    "    print('retrieving page..')\n",
    "\n",
    "    # 페이지 클릭\n",
    "    if selector: #selector is not None\n",
    "        driver.find_element(By.CSS_SELECTOR, selector).click()\n",
    "\n",
    "    time.sleep(5)\n",
    "    \n",
    "    # 페이지에 떠있는 포스트의 정보를 가져오기\n",
    "    results = driver.find_elements(By.CSS_SELECTOR, '#bbsList > div.bd-line > ul > li > div > a')\n",
    "\n",
    "    for result in results:\n",
    "        title = result.text\n",
    "        link = result.get_attribute('href')\n",
    "        post_list.append([title, link])"
   ]
  },
  {
   "cell_type": "code",
   "execution_count": 131,
   "metadata": {},
   "outputs": [
    {
     "data": {
      "text/plain": [
       "[['2023년도 연차보고서',\n",
       "  'https://www.bok.or.kr/portal/bbs/P0000596/view.do?nttId=10083282&searchCnd=1&searchKwd=&depth2=200699&depth3=200071&depth=200071&pageUnit=10&pageIndex=1&programType=newsData&menuNo=200071&oldMenuNo=200071'],\n",
       " ['2022년도 연차보고서',\n",
       "  'https://www.bok.or.kr/portal/bbs/P0000596/view.do?nttId=10076349&searchCnd=1&searchKwd=&depth2=200699&depth3=200071&depth=200071&pageUnit=10&pageIndex=1&programType=newsData&menuNo=200071&oldMenuNo=200071'],\n",
       " ['2021년도 연차보고서',\n",
       "  'https://www.bok.or.kr/portal/bbs/P0000596/view.do?nttId=10069786&searchCnd=1&searchKwd=&depth2=200699&depth3=200071&depth=200071&pageUnit=10&pageIndex=1&programType=newsData&menuNo=200071&oldMenuNo=200071'],\n",
       " ['2020년도 연차보고서',\n",
       "  'https://www.bok.or.kr/portal/bbs/P0000596/view.do?nttId=10063728&searchCnd=1&searchKwd=&depth2=200699&depth3=200071&depth=200071&pageUnit=10&pageIndex=1&programType=newsData&menuNo=200071&oldMenuNo=200071'],\n",
       " ['2019년도 연차보고서',\n",
       "  'https://www.bok.or.kr/portal/bbs/P0000596/view.do?nttId=10057170&searchCnd=1&searchKwd=&depth2=200699&depth3=200071&depth=200071&pageUnit=10&pageIndex=1&programType=newsData&menuNo=200071&oldMenuNo=200071'],\n",
       " ['2018년도 연차보고서',\n",
       "  'https://www.bok.or.kr/portal/bbs/P0000596/view.do?nttId=10050907&searchCnd=1&searchKwd=&depth2=200699&depth3=200071&depth=200071&pageUnit=10&pageIndex=1&programType=newsData&menuNo=200071&oldMenuNo=200071'],\n",
       " ['2017년도 연차보고서',\n",
       "  'https://www.bok.or.kr/portal/bbs/P0000596/view.do?nttId=236823&searchCnd=1&searchKwd=&depth2=200699&depth3=200071&depth=200071&pageUnit=10&pageIndex=1&programType=newsData&menuNo=200071&oldMenuNo=200071'],\n",
       " ['2016년도 연차보고서',\n",
       "  'https://www.bok.or.kr/portal/bbs/P0000596/view.do?nttId=227192&searchCnd=1&searchKwd=&depth2=200699&depth3=200071&depth=200071&pageUnit=10&pageIndex=1&programType=newsData&menuNo=200071&oldMenuNo=200071'],\n",
       " ['2015년도 연차보고서',\n",
       "  'https://www.bok.or.kr/portal/bbs/P0000596/view.do?nttId=217588&searchCnd=1&searchKwd=&depth2=200699&depth3=200071&depth=200071&pageUnit=10&pageIndex=1&programType=newsData&menuNo=200071&oldMenuNo=200071'],\n",
       " ['2014년도 연차보고서',\n",
       "  'https://www.bok.or.kr/portal/bbs/P0000596/view.do?nttId=208174&searchCnd=1&searchKwd=&depth2=200699&depth3=200071&depth=200071&pageUnit=10&pageIndex=1&programType=newsData&menuNo=200071&oldMenuNo=200071'],\n",
       " ['2013년도 연차보고서',\n",
       "  'https://www.bok.or.kr/portal/bbs/P0000596/view.do?nttId=198318&searchCnd=1&searchKwd=&depth2=200699&depth3=200071&date=&sdate=&edate=&sort=1&pageUnit=10&depth=200071&pageIndex=2&programType=newsData&menuNo=200071&oldMenuNo=200071'],\n",
       " ['2012년도 연차보고서',\n",
       "  'https://www.bok.or.kr/portal/bbs/P0000596/view.do?nttId=188305&searchCnd=1&searchKwd=&depth2=200699&depth3=200071&date=&sdate=&edate=&sort=1&pageUnit=10&depth=200071&pageIndex=2&programType=newsData&menuNo=200071&oldMenuNo=200071'],\n",
       " ['2011년도 연차보고서',\n",
       "  'https://www.bok.or.kr/portal/bbs/P0000596/view.do?nttId=178716&searchCnd=1&searchKwd=&depth2=200699&depth3=200071&date=&sdate=&edate=&sort=1&pageUnit=10&depth=200071&pageIndex=2&programType=newsData&menuNo=200071&oldMenuNo=200071'],\n",
       " ['2010년도 연차보고서',\n",
       "  'https://www.bok.or.kr/portal/bbs/P0000596/view.do?nttId=168747&searchCnd=1&searchKwd=&depth2=200699&depth3=200071&date=&sdate=&edate=&sort=1&pageUnit=10&depth=200071&pageIndex=2&programType=newsData&menuNo=200071&oldMenuNo=200071'],\n",
       " ['2009년도 연차보고서',\n",
       "  'https://www.bok.or.kr/portal/bbs/P0000596/view.do?nttId=159279&searchCnd=1&searchKwd=&depth2=200699&depth3=200071&date=&sdate=&edate=&sort=1&pageUnit=10&depth=200071&pageIndex=2&programType=newsData&menuNo=200071&oldMenuNo=200071'],\n",
       " ['2008년도 연차보고서',\n",
       "  'https://www.bok.or.kr/portal/bbs/P0000596/view.do?nttId=149957&searchCnd=1&searchKwd=&depth2=200699&depth3=200071&date=&sdate=&edate=&sort=1&pageUnit=10&depth=200071&pageIndex=2&programType=newsData&menuNo=200071&oldMenuNo=200071'],\n",
       " ['2007년 연차보고서',\n",
       "  'https://www.bok.or.kr/portal/bbs/P0000596/view.do?nttId=124628&searchCnd=1&searchKwd=&depth2=200699&depth3=200071&date=&sdate=&edate=&sort=1&pageUnit=10&depth=200071&pageIndex=2&programType=newsData&menuNo=200071&oldMenuNo=200071'],\n",
       " ['2006년도 연차보고서',\n",
       "  'https://www.bok.or.kr/portal/bbs/P0000596/view.do?nttId=103961&searchCnd=1&searchKwd=&depth2=200699&depth3=200071&date=&sdate=&edate=&sort=1&pageUnit=10&depth=200071&pageIndex=2&programType=newsData&menuNo=200071&oldMenuNo=200071'],\n",
       " ['2005년도 연차보고서',\n",
       "  'https://www.bok.or.kr/portal/bbs/P0000596/view.do?nttId=78275&searchCnd=1&searchKwd=&depth2=200699&depth3=200071&date=&sdate=&edate=&sort=1&pageUnit=10&depth=200071&pageIndex=2&programType=newsData&menuNo=200071&oldMenuNo=200071'],\n",
       " ['2004년도 연차보고서',\n",
       "  'https://www.bok.or.kr/portal/bbs/P0000596/view.do?nttId=61209&searchCnd=1&searchKwd=&depth2=200699&depth3=200071&date=&sdate=&edate=&sort=1&pageUnit=10&depth=200071&pageIndex=2&programType=newsData&menuNo=200071&oldMenuNo=200071'],\n",
       " ['2003년도 연차보고서(차례,1-3장)',\n",
       "  'https://www.bok.or.kr/portal/bbs/P0000596/view.do?nttId=49277&searchCnd=1&searchKwd=&depth2=200699&depth3=200071&date=&sdate=&edate=&sort=1&pageUnit=10&depth=200071&pageIndex=3&programType=newsData&menuNo=200071&oldMenuNo=200071'],\n",
       " ['2003년도 연차보고서(4-6장,부록)',\n",
       "  'https://www.bok.or.kr/portal/bbs/P0000596/view.do?nttId=49253&searchCnd=1&searchKwd=&depth2=200699&depth3=200071&date=&sdate=&edate=&sort=1&pageUnit=10&depth=200071&pageIndex=3&programType=newsData&menuNo=200071&oldMenuNo=200071'],\n",
       " ['2002년도 연차보고서(부록)',\n",
       "  'https://www.bok.or.kr/portal/bbs/P0000596/view.do?nttId=30585&searchCnd=1&searchKwd=&depth2=200699&depth3=200071&date=&sdate=&edate=&sort=1&pageUnit=10&depth=200071&pageIndex=3&programType=newsData&menuNo=200071&oldMenuNo=200071'],\n",
       " ['2002년도 연차보고서(4-6장)',\n",
       "  'https://www.bok.or.kr/portal/bbs/P0000596/view.do?nttId=30583&searchCnd=1&searchKwd=&depth2=200699&depth3=200071&date=&sdate=&edate=&sort=1&pageUnit=10&depth=200071&pageIndex=3&programType=newsData&menuNo=200071&oldMenuNo=200071'],\n",
       " ['2002년도 연차보고서(차례, 1-3장)',\n",
       "  'https://www.bok.or.kr/portal/bbs/P0000596/view.do?nttId=30580&searchCnd=1&searchKwd=&depth2=200699&depth3=200071&date=&sdate=&edate=&sort=1&pageUnit=10&depth=200071&pageIndex=3&programType=newsData&menuNo=200071&oldMenuNo=200071'],\n",
       " ['1998년도 연차보고서(5장, 부록)',\n",
       "  'https://www.bok.or.kr/portal/bbs/P0000596/view.do?nttId=30578&searchCnd=1&searchKwd=&depth2=200699&depth3=200071&date=&sdate=&edate=&sort=1&pageUnit=10&depth=200071&pageIndex=3&programType=newsData&menuNo=200071&oldMenuNo=200071'],\n",
       " ['2001년도 연차보고서(부록)',\n",
       "  'https://www.bok.or.kr/portal/bbs/P0000596/view.do?nttId=30575&searchCnd=1&searchKwd=&depth2=200699&depth3=200071&date=&sdate=&edate=&sort=1&pageUnit=10&depth=200071&pageIndex=3&programType=newsData&menuNo=200071&oldMenuNo=200071'],\n",
       " ['2001년도 연차보고서(5,6장)',\n",
       "  'https://www.bok.or.kr/portal/bbs/P0000596/view.do?nttId=30572&searchCnd=1&searchKwd=&depth2=200699&depth3=200071&date=&sdate=&edate=&sort=1&pageUnit=10&depth=200071&pageIndex=3&programType=newsData&menuNo=200071&oldMenuNo=200071'],\n",
       " ['2001년도 연차보고서',\n",
       "  'https://www.bok.or.kr/portal/bbs/P0000596/view.do?nttId=19316&searchCnd=1&searchKwd=&depth2=200699&depth3=200071&date=&sdate=&edate=&sort=1&pageUnit=10&depth=200071&pageIndex=3&programType=newsData&menuNo=200071&oldMenuNo=200071'],\n",
       " ['2000년도 연차보고서',\n",
       "  'https://www.bok.or.kr/portal/bbs/P0000596/view.do?nttId=14162&searchCnd=1&searchKwd=&depth2=200699&depth3=200071&date=&sdate=&edate=&sort=1&pageUnit=10&depth=200071&pageIndex=3&programType=newsData&menuNo=200071&oldMenuNo=200071'],\n",
       " ['1999년도 연차보고서',\n",
       "  'https://www.bok.or.kr/portal/bbs/P0000596/view.do?nttId=14160&searchCnd=1&searchKwd=&depth2=200699&depth3=200071&date=&sdate=&edate=&sort=1&pageUnit=10&depth=200071&pageIndex=4&programType=newsData&menuNo=200071&oldMenuNo=200071'],\n",
       " ['1998년도 연차보고서',\n",
       "  'https://www.bok.or.kr/portal/bbs/P0000596/view.do?nttId=14158&searchCnd=1&searchKwd=&depth2=200699&depth3=200071&date=&sdate=&edate=&sort=1&pageUnit=10&depth=200071&pageIndex=4&programType=newsData&menuNo=200071&oldMenuNo=200071'],\n",
       " ['2000년도 연차보고서(부록)',\n",
       "  'https://www.bok.or.kr/portal/bbs/P0000596/view.do?nttId=12715&searchCnd=1&searchKwd=&depth2=200699&depth3=200071&date=&sdate=&edate=&sort=1&pageUnit=10&depth=200071&pageIndex=4&programType=newsData&menuNo=200071&oldMenuNo=200071'],\n",
       " ['2000년도 연차보고서(차례, 본문)',\n",
       "  'https://www.bok.or.kr/portal/bbs/P0000596/view.do?nttId=12712&searchCnd=1&searchKwd=&depth2=200699&depth3=200071&date=&sdate=&edate=&sort=1&pageUnit=10&depth=200071&pageIndex=4&programType=newsData&menuNo=200071&oldMenuNo=200071'],\n",
       " ['1999년도 연차보고서(부록편)',\n",
       "  'https://www.bok.or.kr/portal/bbs/P0000596/view.do?nttId=8502&searchCnd=1&searchKwd=&depth2=200699&depth3=200071&date=&sdate=&edate=&sort=1&pageUnit=10&depth=200071&pageIndex=4&programType=newsData&menuNo=200071&oldMenuNo=200071'],\n",
       " ['1999년도 연차보고서(본문, 부록목차, 부록조직도표)',\n",
       "  'https://www.bok.or.kr/portal/bbs/P0000596/view.do?nttId=8500&searchCnd=1&searchKwd=&depth2=200699&depth3=200071&date=&sdate=&edate=&sort=1&pageUnit=10&depth=200071&pageIndex=4&programType=newsData&menuNo=200071&oldMenuNo=200071'],\n",
       " ['1998년도 제49차 연차보고서(총설)',\n",
       "  'https://www.bok.or.kr/portal/bbs/P0000596/view.do?nttId=6814&searchCnd=1&searchKwd=&depth2=200699&depth3=200071&date=&sdate=&edate=&sort=1&pageUnit=10&depth=200071&pageIndex=4&programType=newsData&menuNo=200071&oldMenuNo=200071'],\n",
       " ['1997년도 제48차 연차보고서(총설)',\n",
       "  'https://www.bok.or.kr/portal/bbs/P0000596/view.do?nttId=2014&searchCnd=1&searchKwd=&depth2=200699&depth3=200071&date=&sdate=&edate=&sort=1&pageUnit=10&depth=200071&pageIndex=4&programType=newsData&menuNo=200071&oldMenuNo=200071'],\n",
       " ['1996년도 제47차 연차보고서(총설)',\n",
       "  'https://www.bok.or.kr/portal/bbs/P0000596/view.do?nttId=167&searchCnd=1&searchKwd=&depth2=200699&depth3=200071&date=&sdate=&edate=&sort=1&pageUnit=10&depth=200071&pageIndex=4&programType=newsData&menuNo=200071&oldMenuNo=200071']]"
      ]
     },
     "execution_count": 131,
     "metadata": {},
     "output_type": "execute_result"
    }
   ],
   "source": [
    "post_list"
   ]
  },
  {
   "cell_type": "code",
   "execution_count": null,
   "metadata": {},
   "outputs": [],
   "source": [
    "post_list_df = pd.DataFrame(post_list, columns=['title','link'])"
   ]
  },
  {
   "cell_type": "code",
   "execution_count": 132,
   "metadata": {},
   "outputs": [
    {
     "name": "stdout",
     "output_type": "stream",
     "text": [
      "download 2023년도 연차보고서 failed(수동으로 파일을 다운로드 받으세요)\n",
      "download 2022년도 연차보고서 done\n",
      "download 2021년도 연차보고서 done\n",
      "download 2020년도 연차보고서 done\n",
      "download 2019년도 연차보고서 done\n",
      "download 2018년도 연차보고서 done\n",
      "download 2017년도 연차보고서 done\n",
      "download 2016년도 연차보고서 done\n",
      "download 2015년도 연차보고서 done\n",
      "download 2014년도 연차보고서 done\n",
      "download 2013년도 연차보고서 done\n",
      "download 2012년도 연차보고서 done\n",
      "download 2011년도 연차보고서 done\n",
      "download 2010년도 연차보고서 done\n",
      "download 2009년도 연차보고서 done\n",
      "download 2008년도 연차보고서 done\n",
      "download 2007년 연차보고서 done\n",
      "download 2006년도 연차보고서 done\n",
      "download 2005년도 연차보고서 done\n",
      "download 2004년도 연차보고서 done\n",
      "download 2003년도 연차보고서(차례,1-3장) done\n",
      "download 2003년도 연차보고서(4-6장,부록) done\n",
      "download 2002년도 연차보고서(부록) done\n",
      "download 2002년도 연차보고서(4-6장) done\n",
      "download 2002년도 연차보고서(차례, 1-3장) done\n",
      "download 1998년도 연차보고서(5장, 부록) done\n",
      "download 2001년도 연차보고서(부록) done\n",
      "download 2001년도 연차보고서(5,6장) done\n",
      "download 2001년도 연차보고서 done\n",
      "download 2000년도 연차보고서 done\n",
      "download 1999년도 연차보고서 done\n",
      "download 1998년도 연차보고서 done\n",
      "download 2000년도 연차보고서(부록) done\n",
      "download 2000년도 연차보고서(차례, 본문) done\n",
      "download 1999년도 연차보고서(부록편) done\n",
      "download 1999년도 연차보고서(본문, 부록목차, 부록조직도표) done\n",
      "download 1998년도 제49차 연차보고서(총설) done\n",
      "download 1997년도 제48차 연차보고서(총설) done\n",
      "download 1996년도 제47차 연차보고서(총설) done\n"
     ]
    }
   ],
   "source": [
    "for title, link in post_list:\n",
    "\n",
    "    driver.get(link)\n",
    "    time.sleep(3)\n",
    "    \n",
    "    if title == '2023년도 연차보고서' : \n",
    "        #driver.find_element(By.CSS_SELECTOR, '#annual-report-sidebar > ul > li.link-pdf > a').click()\n",
    "        #time.sleep(3)\n",
    "        #driver.find_element(By.XPATH, '/html/body/div[1]/div[2]/div[7]/div/div[1]/div[2]/button[2]').click()\n",
    "        print(f'download {title} failed(수동으로 파일을 다운로드 받으세요)')\n",
    "        continue\n",
    "\n",
    "    driver.find_element(By.CSS_SELECTOR, '#board > div > div.down-set > div > button').click()\n",
    "    time.sleep(1)\n",
    "\n",
    "    try:   \n",
    "        driver.find_element(By.CSS_SELECTOR, '#board > div > div.down-set > dl > dd > ul > li:nth-child(1) > div > a.file').click()\n",
    "    except :\n",
    "        try:\n",
    "            driver.find_element(By.CSS_SELECTOR, '#board > div > div.down-set > dl > dd > ul > li:nth-child(2) > div > a.file').click()\n",
    "        except :\n",
    "            driver.find_element(By.CSS_SELECTOR, '#board > div > div.down-set > dl > dd > ul > li > a').click()\n",
    "\n",
    "    print(f'download {title} done')\n"
   ]
  }
 ],
 "metadata": {
  "kernelspec": {
   "display_name": "Python 3",
   "language": "python",
   "name": "python3"
  },
  "language_info": {
   "codemirror_mode": {
    "name": "ipython",
    "version": 3
   },
   "file_extension": ".py",
   "mimetype": "text/x-python",
   "name": "python",
   "nbconvert_exporter": "python",
   "pygments_lexer": "ipython3",
   "version": "3.12.4"
  }
 },
 "nbformat": 4,
 "nbformat_minor": 2
}
