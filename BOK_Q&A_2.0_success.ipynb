{
 "cells": [
  {
   "cell_type": "code",
   "execution_count": 1,
   "metadata": {},
   "outputs": [
    {
     "name": "stderr",
     "output_type": "stream",
     "text": [
      "/opt/anaconda3/envs/myenv/lib/python3.12/site-packages/pydantic/_internal/_fields.py:132: UserWarning: Field \"model_name\" in HuggingFaceInferenceAPIEmbeddings has conflict with protected namespace \"model_\".\n",
      "\n",
      "You may be able to resolve this warning by setting `model_config['protected_namespaces'] = ()`.\n",
      "  warnings.warn(\n"
     ]
    }
   ],
   "source": [
    "# 벡터db에 연결\n",
    "import numpy as np\n",
    "import pandas as pd\n",
    "\n",
    "from langchain.document_loaders import CSVLoader\n",
    "from langchain.embeddings.huggingface import HuggingFaceEmbeddings\n",
    "from langchain.docstore.in_memory import InMemoryDocstore\n",
    "from langchain.docstore.document import Document\n",
    "from langchain import FAISS\n",
    "import faiss"
   ]
  },
  {
   "cell_type": "code",
   "execution_count": 34,
   "metadata": {},
   "outputs": [],
   "source": [
    "qna_df = pd.read_csv('qa_data.csv')[['질문', '답변']]\n",
    "qna_df['질문'] = qna_df['질문'].apply(lambda x: x.split('질문\\n')[1]) # \"질문\\n\" 제거\n",
    "qna_df['답변'] = qna_df['답변'].apply(lambda x: x.split('답변\\n')[1]) # \"답변\\n\" 제거"
   ]
  },
  {
   "cell_type": "code",
   "execution_count": 35,
   "metadata": {},
   "outputs": [
    {
     "data": {
      "text/html": [
       "<div>\n",
       "<style scoped>\n",
       "    .dataframe tbody tr th:only-of-type {\n",
       "        vertical-align: middle;\n",
       "    }\n",
       "\n",
       "    .dataframe tbody tr th {\n",
       "        vertical-align: top;\n",
       "    }\n",
       "\n",
       "    .dataframe thead th {\n",
       "        text-align: right;\n",
       "    }\n",
       "</style>\n",
       "<table border=\"1\" class=\"dataframe\">\n",
       "  <thead>\n",
       "    <tr style=\"text-align: right;\">\n",
       "      <th></th>\n",
       "      <th>질문</th>\n",
       "      <th>답변</th>\n",
       "    </tr>\n",
       "  </thead>\n",
       "  <tbody>\n",
       "    <tr>\n",
       "      <th>0</th>\n",
       "      <td>\"지역화폐\" “지역화폐”의 의미?</td>\n",
       "      <td>“지역화폐”는 특정 지역 또는 특정 집단 내에서 자생적으로 형성된 지급수단으로서 「...</td>\n",
       "    </tr>\n",
       "    <tr>\n",
       "      <th>1</th>\n",
       "      <td>\"지역화폐\" 지역사랑상품권의 법화(법정통화) 여부?</td>\n",
       "      <td>『한국은행법』에 따르면 법화(法貨)는 한국은행이 발행한 한국은행권 및 주화만을 의미...</td>\n",
       "    </tr>\n",
       "    <tr>\n",
       "      <th>2</th>\n",
       "      <td>\"지역화폐\" 한국은행은 지역사랑상품권을 교환해주는지?</td>\n",
       "      <td>한국은행은 지역사랑상품권의 발행주체가 아니며 지역사랑상품권을 한국은행권 및 주화로 ...</td>\n",
       "    </tr>\n",
       "    <tr>\n",
       "      <th>3</th>\n",
       "      <td>\"지역화폐\" 지역사랑상품권의 발행주체 부도시 한국은행의 보상 여부?</td>\n",
       "      <td>지역사랑상품권은 한국은행에서 발행한 법화(法貨)가 아니므로 발행주체의 부도시 한국은...</td>\n",
       "    </tr>\n",
       "    <tr>\n",
       "      <th>4</th>\n",
       "      <td>발권출납 현용주화 발행연도</td>\n",
       "      <td>한국은행은 매년 화폐수급전망을 기초로 다음 연도에 필요한 화폐의 양을 한국조폐공사를...</td>\n",
       "    </tr>\n",
       "    <tr>\n",
       "      <th>...</th>\n",
       "      <td>...</td>\n",
       "      <td>...</td>\n",
       "    </tr>\n",
       "    <tr>\n",
       "      <th>90</th>\n",
       "      <td>발권출납 화폐도안의 광고물 이용행위 등에 대한 제한</td>\n",
       "      <td>화폐도안을 광고소재로 사용하는 것은 원칙적으로 바람직하지 않습니다. 왜냐하면 돈을 ...</td>\n",
       "    </tr>\n",
       "    <tr>\n",
       "      <th>91</th>\n",
       "      <td>지급결제 한국은행금융결제망(BOK-Wire+)</td>\n",
       "      <td>한국은행금융결제망(BOK-Wire+)은 1994.12월부터 한국은행과 금융기관을 온...</td>\n",
       "    </tr>\n",
       "    <tr>\n",
       "      <th>92</th>\n",
       "      <td>경제통계 분기 경제성장률</td>\n",
       "      <td>전기비 성장률은 현재 분기의 경제상황이 직전 분기보다 나아지고 있는지 또는 나빠지고...</td>\n",
       "    </tr>\n",
       "    <tr>\n",
       "      <th>93</th>\n",
       "      <td>발권출납 화폐도안 선정기준</td>\n",
       "      <td>먼저 현용화폐의 경우 한국은행은 화폐 도안에 대한 국민여론과 각계 전문가들의 의견 ...</td>\n",
       "    </tr>\n",
       "    <tr>\n",
       "      <th>94</th>\n",
       "      <td>발권출납 위조화폐 구별 방법</td>\n",
       "      <td>지폐는 ‘만져보고’, ‘기울여보고’, ‘비추어보면서’ 다음과 같은 위조방지장치를 확...</td>\n",
       "    </tr>\n",
       "  </tbody>\n",
       "</table>\n",
       "<p>95 rows × 2 columns</p>\n",
       "</div>"
      ],
      "text/plain": [
       "                                       질문  \\\n",
       "0                      \"지역화폐\" “지역화폐”의 의미?   \n",
       "1            \"지역화폐\" 지역사랑상품권의 법화(법정통화) 여부?   \n",
       "2           \"지역화폐\" 한국은행은 지역사랑상품권을 교환해주는지?   \n",
       "3   \"지역화폐\" 지역사랑상품권의 발행주체 부도시 한국은행의 보상 여부?   \n",
       "4                          발권출납 현용주화 발행연도   \n",
       "..                                    ...   \n",
       "90           발권출납 화폐도안의 광고물 이용행위 등에 대한 제한   \n",
       "91              지급결제 한국은행금융결제망(BOK-Wire+)   \n",
       "92                          경제통계 분기 경제성장률   \n",
       "93                         발권출납 화폐도안 선정기준   \n",
       "94                        발권출납 위조화폐 구별 방법   \n",
       "\n",
       "                                                   답변  \n",
       "0   “지역화폐”는 특정 지역 또는 특정 집단 내에서 자생적으로 형성된 지급수단으로서 「...  \n",
       "1   『한국은행법』에 따르면 법화(法貨)는 한국은행이 발행한 한국은행권 및 주화만을 의미...  \n",
       "2   한국은행은 지역사랑상품권의 발행주체가 아니며 지역사랑상품권을 한국은행권 및 주화로 ...  \n",
       "3   지역사랑상품권은 한국은행에서 발행한 법화(法貨)가 아니므로 발행주체의 부도시 한국은...  \n",
       "4   한국은행은 매년 화폐수급전망을 기초로 다음 연도에 필요한 화폐의 양을 한국조폐공사를...  \n",
       "..                                                ...  \n",
       "90  화폐도안을 광고소재로 사용하는 것은 원칙적으로 바람직하지 않습니다. 왜냐하면 돈을 ...  \n",
       "91  한국은행금융결제망(BOK-Wire+)은 1994.12월부터 한국은행과 금융기관을 온...  \n",
       "92  전기비 성장률은 현재 분기의 경제상황이 직전 분기보다 나아지고 있는지 또는 나빠지고...  \n",
       "93  먼저 현용화폐의 경우 한국은행은 화폐 도안에 대한 국민여론과 각계 전문가들의 의견 ...  \n",
       "94  지폐는 ‘만져보고’, ‘기울여보고’, ‘비추어보면서’ 다음과 같은 위조방지장치를 확...  \n",
       "\n",
       "[95 rows x 2 columns]"
      ]
     },
     "execution_count": 35,
     "metadata": {},
     "output_type": "execute_result"
    }
   ],
   "source": [
    "qna_df"
   ]
  },
  {
   "cell_type": "markdown",
   "metadata": {},
   "source": [
    "## FAISS에 따로 저장은 안하는 경우"
   ]
  },
  {
   "cell_type": "code",
   "execution_count": null,
   "metadata": {},
   "outputs": [],
   "source": [
    "from sentence_transformers import SentenceTransformer\n",
    "from sklearn.metrics.pairwise import cosine_similarity\n",
    "\n",
    "# SentenceTransformer 모델 로드\n",
    "embedding_model = SentenceTransformer('jeonseonjin/embedding_BAAI-bge-m3')\n",
    "\n",
    "# 쿼리 문장들에 대한 임베딩 벡터 생성\n",
    "query_texts = qna_df['질문'].to_list()\n",
    "document_embeddings = embedding_model.encode(query_texts)"
   ]
  },
  {
   "cell_type": "code",
   "execution_count": 77,
   "metadata": {},
   "outputs": [
    {
     "name": "stdout",
     "output_type": "stream",
     "text": [
      "가장 비슷한 질문 :  발권출납 옛날 돈과 현용화폐와의 교환\n",
      "가장 비슷한 질문의 거리 :  1.0\n",
      "가장 비슷한 질문의 답:  한국은행은 1962년 이후에 발행된 원 표시 화폐에 대해서만 액면 금액으로 교환해 드...\n"
     ]
    }
   ],
   "source": [
    "# 쿼리 제시\n",
    "new_query = '발권출납 옛날 돈과 현용화폐와의 교환'\n",
    "new_query_embedding = embedding_model.encode([new_query])\n",
    "\n",
    "# 코사인 유사도 계산\n",
    "cos_sim = cosine_similarity(new_query_embedding, document_embeddings)\n",
    "\n",
    "# 코사인 유사도 값이 가장 큰 질문 찾기\n",
    "most_similar_idx = np.argmax(cos_sim)\n",
    "similarity = np.round(cos_sim[0][most_similar_idx],2)\n",
    "\n",
    "# 가장 비슷한 질문과 답변 가져오기\n",
    "similar_query = query_texts[most_similar_idx]\n",
    "similar_answer = qna_df[qna_df.index == most_similar_idx]['답변'].to_string(index=False)\n",
    "\n",
    "print(\"가장 비슷한 질문 : \", similar_query)\n",
    "print(\"가장 비슷한 질문의 거리 : \", similarity) #같은 질문에 대해서는 1.0이 나와야함\n",
    "print(\"가장 비슷한 질문의 답: \", similar_answer)\n"
   ]
  },
  {
   "cell_type": "markdown",
   "metadata": {},
   "source": [
    "## FAISS에 저장"
   ]
  },
  {
   "cell_type": "code",
   "execution_count": 56,
   "metadata": {},
   "outputs": [
    {
     "name": "stdout",
     "output_type": "stream",
     "text": [
      "가장 비슷한 질문 :  발권출납 옛날 돈과 현용화폐와의 교환\n",
      "가장 비슷한 질문의 유사도 (코사인 유사도):  1.0\n",
      "가장 비슷한 질문의 답:  한국은행은 1962년 이후에 발행된 원 표시 화폐에 대해서만 액면 금액으로 교환해 드...\n"
     ]
    }
   ],
   "source": [
    "import faiss\n",
    "import numpy as np\n",
    "\n",
    "# 모든 벡터 정규화 (document_embeddings와 쿼리 모두)\n",
    "document_embeddings = document_embeddings / np.linalg.norm(document_embeddings, axis=1, keepdims=True)\n",
    "\n",
    "# FAISS 인덱스 생성 및 추가 (정규화된 벡터 사용)\n",
    "embed_dim = document_embeddings.shape[1]\n",
    "query_index = faiss.IndexFlatIP(embed_dim)\n",
    "query_index.add(document_embeddings)\n",
    "faiss.write_index(query_index, 'query_index.bin')\n",
    "\n",
    "# 쿼리 제시\n",
    "new_query = '발권출납 옛날 돈과 현용화폐와의 교환'\n",
    "new_query_embedding = embedding_model.encode([new_query])\n",
    "\n",
    "# 쿼리 벡터도 정규화\n",
    "new_query_embedding = new_query_embedding / np.linalg.norm(new_query_embedding, axis=1, keepdims=True)\n",
    "\n",
    "# FAISS 검색 (내적이 코사인 유사도와 동일)\n",
    "distance, index = query_index.search(new_query_embedding, k=3)\n",
    "\n",
    "# 가장 비슷한 질문의 인덱스와 유사도\n",
    "most_similar_idx = index[0][0]\n",
    "similarity = distance[0][0]  # 내적값은 코사인 유사도와 동일\n",
    "\n",
    "# 가장 비슷한 질문과 답변 가져오기\n",
    "similar_query = query_texts[most_similar_idx]\n",
    "similar_answer = qna_df[qna_df.index == most_similar_idx]['답변'].to_string(index=False)\n",
    "\n",
    "# 출력\n",
    "print(\"가장 비슷한 질문 : \", similar_query)\n",
    "print(\"가장 비슷한 질문의 유사도 (코사인 유사도): \", similarity)\n",
    "print(\"가장 비슷한 질문의 답: \", similar_answer)\n"
   ]
  },
  {
   "cell_type": "markdown",
   "metadata": {},
   "source": [
    "## 질의-답변을 함수로 제공"
   ]
  },
  {
   "cell_type": "code",
   "execution_count": 78,
   "metadata": {},
   "outputs": [
    {
     "name": "stdout",
     "output_type": "stream",
     "text": [
      "가장 비슷한 질문 :  발권출납 옛날 돈과 현용화폐와의 교환\n",
      "가장 비슷한 질문의 유사도 :  1.0\n",
      "가장 비슷한 질문의 답:  한국은행은 1962년 이후에 발행된 원 표시 화폐에 대해서만 액면 금액으로 교환해 드...\n"
     ]
    },
    {
     "data": {
      "text/plain": [
       "('발권출납 옛날 돈과 현용화폐와의 교환',\n",
       " 1.0,\n",
       " '한국은행은 1962년 이후에 발행된 원 표시 화폐에 대해서만 액면 금액으로 교환해 드...')"
      ]
     },
     "execution_count": 78,
     "metadata": {},
     "output_type": "execute_result"
    }
   ],
   "source": [
    "from sklearn.metrics.pairwise import cosine_similarity\n",
    "import numpy as np\n",
    "\n",
    "# query-answer 함수 정의\n",
    "def query_answer(new_query, embedding_model=embedding_model, document_embeddings=document_embeddings, top_k=1, verbose=True):\n",
    "    # 쿼리 임베딩 계산\n",
    "    new_query_embedding = embedding_model.encode([new_query])\n",
    "\n",
    "    \n",
    "    # 코사인 유사도 계산\n",
    "    cos_sim = cosine_similarity(new_query_embedding, document_embeddings)\n",
    "    \n",
    "    # 코사인 유사도 값이 가장 큰 질문의 인덱스 찾기\n",
    "    most_similar_idx = np.argmax(cos_sim)\n",
    "    similarity = np.round(cos_sim[0][most_similar_idx], 2)\n",
    "    \n",
    "    # 가장 비슷한 질문과 답변 가져오기\n",
    "    similar_query = query_texts[most_similar_idx]\n",
    "    similar_answer = qna_df[qna_df.index == most_similar_idx]['답변'].to_string(index=False)\n",
    "    \n",
    "    if verbose == True:\n",
    "        print(\"가장 비슷한 질문 : \", similar_query)\n",
    "        print(\"가장 비슷한 질문의 유사도 : \", similarity)\n",
    "        print(\"가장 비슷한 질문의 답: \", similar_answer)\n",
    "\n",
    "    # 결과 반환\n",
    "    return similar_query, similarity, similar_answer\n",
    "\n",
    "# 함수 호출 예시\n",
    "new_query = '발권출납 옛날 돈과 현용화폐와의 교환'\n",
    "\n",
    "query_answer(new_query)"
   ]
  },
  {
   "cell_type": "code",
   "execution_count": 80,
   "metadata": {},
   "outputs": [
    {
     "data": {
      "text/plain": [
       "'세계 외환거래규모와 관련하여 보통 이용하는 통계는 국제결제은행(BIS)의 「세계 외환...'"
      ]
     },
     "execution_count": 80,
     "metadata": {},
     "output_type": "execute_result"
    }
   ],
   "source": [
    "new_query = '전세계 외환시장의 거래규모'\n",
    "query_answer(new_query, verbose=False)[2]"
   ]
  }
 ],
 "metadata": {
  "kernelspec": {
   "display_name": "myenv",
   "language": "python",
   "name": "python3"
  },
  "language_info": {
   "codemirror_mode": {
    "name": "ipython",
    "version": 3
   },
   "file_extension": ".py",
   "mimetype": "text/x-python",
   "name": "python",
   "nbconvert_exporter": "python",
   "pygments_lexer": "ipython3",
   "version": "3.12.6"
  }
 },
 "nbformat": 4,
 "nbformat_minor": 2
}
