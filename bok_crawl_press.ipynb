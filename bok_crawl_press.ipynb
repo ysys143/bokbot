{
 "cells": [
  {
   "cell_type": "code",
   "execution_count": 32,
   "metadata": {},
   "outputs": [],
   "source": [
    "from webdriver_manager.chrome import ChromeDriverManager\n",
    "from selenium import webdriver\n",
    "from selenium.webdriver.chrome.service import Service\n",
    "from selenium.webdriver.chrome.options import Options\n",
    "from selenium.webdriver.common.by import By\n",
    "import pandas as pd\n",
    "import time\n",
    "\n",
    "\n",
    "# 다운로드 폴더 경로 설정\n",
    "download_dir = \"/Users/jaesolshin/Library/CloudStorage/GoogleDrive-ysys143@gmail.com/내 드라이브/2024-2/Google ML Bootcamp2024/data/bokbot/press_release\"\n",
    "\n",
    "# Chrome 옵션 설정\n",
    "chrome_options = Options()\n",
    "#chrome_options.add_argument('--headless')  # 브라우저 창을 띄우지 않음\n",
    "chrome_options.add_experimental_option('prefs', {\n",
    "    \"download.default_directory\": download_dir,  # 다운로드 경로 설정\n",
    "})\n",
    "\n",
    "# 크롬 드라이버 서비스 설정 및 실행\n",
    "service = Service(ChromeDriverManager().install())\n",
    "driver = webdriver.Chrome(service=service, options = chrome_options)\n",
    "\n",
    "# URL 열기\n",
    "page_num=1\n",
    "url = f'https://www.bok.or.kr/'\n",
    "driver.get(url)\n",
    "\n",
    "# 대기 설정\n",
    "driver.implicitly_wait(10)  # 최대 10초 대기\n",
    "\n",
    "# 작업 후 드라이버 종료\n",
    "#driver.quit()"
   ]
  },
  {
   "cell_type": "code",
   "execution_count": 3,
   "metadata": {},
   "outputs": [],
   "source": [
    "#driver.find_element(By.CSS_SELECTOR, '#pageUnit > option:nth-child(6)').click() #100개씩 표시"
   ]
  },
  {
   "cell_type": "code",
   "execution_count": 52,
   "metadata": {},
   "outputs": [
    {
     "name": "stdout",
     "output_type": "stream",
     "text": [
      "retrieving page 1\n",
      "retrieving page 2\n",
      "retrieving page 3\n",
      "retrieving page 4\n",
      "retrieving page 5\n",
      "retrieving page 6\n",
      "retrieving page 7\n",
      "retrieving page 8\n",
      "retrieving page 9\n",
      "retrieving page 10\n",
      "result until page_num 10 saved\n",
      "retrieving page 11\n",
      "retrieving page 12\n"
     ]
    },
    {
     "ename": "KeyboardInterrupt",
     "evalue": "",
     "output_type": "error",
     "traceback": [
      "\u001b[0;31m---------------------------------------------------------------------------\u001b[0m",
      "\u001b[0;31mKeyboardInterrupt\u001b[0m                         Traceback (most recent call last)",
      "Cell \u001b[0;32mIn[52], line 12\u001b[0m\n\u001b[1;32m      8\u001b[0m driver\u001b[38;5;241m.\u001b[39mget(url)\n\u001b[1;32m     10\u001b[0m \u001b[38;5;28mprint\u001b[39m(\u001b[38;5;124mf\u001b[39m\u001b[38;5;124m'\u001b[39m\u001b[38;5;124mretrieving page \u001b[39m\u001b[38;5;132;01m{\u001b[39;00mpage_num\u001b[38;5;132;01m}\u001b[39;00m\u001b[38;5;124m'\u001b[39m)\n\u001b[0;32m---> 12\u001b[0m \u001b[43mtime\u001b[49m\u001b[38;5;241;43m.\u001b[39;49m\u001b[43msleep\u001b[49m\u001b[43m(\u001b[49m\u001b[38;5;241;43m5\u001b[39;49m\u001b[43m)\u001b[49m\n\u001b[1;32m     14\u001b[0m \u001b[38;5;66;03m# 페이지에 떠있는 포스트의 정보를 가져오기\u001b[39;00m\n\u001b[1;32m     15\u001b[0m results \u001b[38;5;241m=\u001b[39m driver\u001b[38;5;241m.\u001b[39mfind_elements(By\u001b[38;5;241m.\u001b[39mCSS_SELECTOR, \u001b[38;5;124m'\u001b[39m\u001b[38;5;124m#bbsList > div.bd-line > ul > li > div > a\u001b[39m\u001b[38;5;124m'\u001b[39m)\n",
      "\u001b[0;31mKeyboardInterrupt\u001b[0m: "
     ]
    }
   ],
   "source": [
    "import random\n",
    "\n",
    "post_list = []\n",
    "full_range = range(1,1283)\n",
    "\n",
    "for page_num in full_range:\n",
    "\n",
    "    # URL 열기\n",
    "    url = f'https://www.bok.or.kr/portal/singl/newsData/list.do?pageIndex={page_num}&targetDepth=3&menuNo=201263&syncMenuChekKey=11&depthSubMain=&subMainAt=&searchCnd=1&searchKwd=&depth2=200038&depth3=201263&date=&sdate=&edate=&sort=1&pageUnit=10'\n",
    "    driver.get(url)\n",
    "\n",
    "    print(f'retrieving page {page_num}')\n",
    "    \n",
    "    time.sleep(random.randint(40,60)/10)\n",
    "    \n",
    "    # 페이지에 떠있는 포스트의 정보를 가져오기\n",
    "    results = driver.find_elements(By.CSS_SELECTOR, '#bbsList > div.bd-line > ul > li > div > a')\n",
    "\n",
    "    for result in results:\n",
    "        title = result.text\n",
    "        link = result.get_attribute('href')\n",
    "        post_list.append([title, link])\n",
    "\n",
    "    if page_num%100==0:\n",
    "        temp_df = pd.DataFrame(post_list, columns=['title','link'])\n",
    "        temp_df.to_csv(f'to_{page_num}.csv')\n",
    "        print(f'result until page_num {page_num} saved')"
   ]
  },
  {
   "cell_type": "code",
   "execution_count": 39,
   "metadata": {},
   "outputs": [
    {
     "data": {
      "text/plain": [
       "12820"
      ]
     },
     "execution_count": 39,
     "metadata": {},
     "output_type": "execute_result"
    }
   ],
   "source": [
    "print(len(post_list))\n",
    "post_list_df = pd.DataFrame(post_list, columns=['title','link'])\n",
    "post_list_df.to_csv('full_links.csv')"
   ]
  },
  {
   "cell_type": "code",
   "execution_count": 40,
   "metadata": {},
   "outputs": [],
   "source": [
    "duplicate_titles = post_list_df[post_list_df.duplicated(subset=['title'], keep=False)]\n",
    "print(len(duplicate_titles))\n",
    "\n",
    "post_list_df_uniq = post_list_df.drop_duplicates(subset=['title'], keep='first')\n",
    "post_list_df_uniq.to_csv('full_links_final.csv', index=False)\n"
   ]
  },
  {
   "cell_type": "code",
   "execution_count": 48,
   "metadata": {},
   "outputs": [
    {
     "name": "stderr",
     "output_type": "stream",
     "text": [
      "/var/folders/hw/9m3g7fvn4_l3rp2y473km9sm0000gn/T/ipykernel_5329/2076996302.py:1: FutureWarning: Series.__getitem__ treating keys as positions is deprecated. In a future version, integer keys will always be treated as labels (consistent with DataFrame behavior). To access a value by position, use `ser.iloc[pos]`\n",
      "  post_list_df_uniq.iloc[0][1]\n"
     ]
    },
    {
     "data": {
      "text/plain": [
       "'https://www.bok.or.kr/portal/bbs/B0000501/view.do?nttId=10086857&searchCnd=1&searchKwd=&depth2=200038&depth3=201263&depth=201263&pageUnit=10&pageIndex=1&programType=newsData&menuNo=201264&oldMenuNo=201263'"
      ]
     },
     "execution_count": 48,
     "metadata": {},
     "output_type": "execute_result"
    }
   ],
   "source": [
    "post_list_df_uniq.iloc[0][1]"
   ]
  },
  {
   "cell_type": "code",
   "execution_count": 8,
   "metadata": {},
   "outputs": [
    {
     "name": "stdout",
     "output_type": "stream",
     "text": [
      "download 2023년도 연차보고서 failed(수동으로 파일을 다운로드 받으세요)\n",
      "download 2022년도 연차보고서 done\n",
      "download 2021년도 연차보고서 done\n",
      "download 2020년도 연차보고서 done\n",
      "download 2019년도 연차보고서 done\n",
      "download 2018년도 연차보고서 done\n",
      "download 2017년도 연차보고서 done\n",
      "download 2016년도 연차보고서 done\n",
      "download 2015년도 연차보고서 done\n",
      "download 2014년도 연차보고서 done\n",
      "download 2013년도 연차보고서 done\n",
      "download 2012년도 연차보고서 done\n",
      "download 2011년도 연차보고서 done\n",
      "download 2010년도 연차보고서 done\n",
      "download 2009년도 연차보고서 done\n",
      "download 2008년도 연차보고서 done\n",
      "download 2007년 연차보고서 done\n",
      "download 2006년도 연차보고서 done\n",
      "download 2005년도 연차보고서 done\n",
      "download 2004년도 연차보고서 done\n",
      "download 2003년도 연차보고서(차례,1-3장) done\n",
      "download 2003년도 연차보고서(4-6장,부록) done\n",
      "download 2002년도 연차보고서(부록) done\n",
      "download 2002년도 연차보고서(4-6장) done\n",
      "download 2002년도 연차보고서(차례, 1-3장) done\n",
      "download 1998년도 연차보고서(5장, 부록) done\n",
      "download 2001년도 연차보고서(부록) done\n",
      "download 2001년도 연차보고서(5,6장) done\n",
      "download 2001년도 연차보고서 done\n",
      "download 2000년도 연차보고서 done\n",
      "download 1999년도 연차보고서 done\n",
      "download 1998년도 연차보고서 done\n",
      "download 2000년도 연차보고서(부록) done\n",
      "download 2000년도 연차보고서(차례, 본문) done\n",
      "download 1999년도 연차보고서(부록편) done\n",
      "download 1999년도 연차보고서(본문, 부록목차, 부록조직도표) done\n",
      "download 1998년도 제49차 연차보고서(총설) done\n",
      "download 1997년도 제48차 연차보고서(총설) done\n",
      "download 1996년도 제47차 연차보고서(총설) done\n"
     ]
    }
   ],
   "source": [
    "from selenium.common.exceptions import NoSuchElementException, ElementClickInterceptedException\n",
    "\n",
    "for title, link in post_list:\n",
    "\n",
    "    if title == '2023년도 연차보고서' : \n",
    "        #driver.find_element(By.CSS_SELECTOR, '#annual-report-sidebar > ul > li.link-pdf > a').click()\n",
    "        #time.sleep(3)\n",
    "        #driver.find_element(By.XPATH, '/html/body/div[1]/div[2]/div[7]/div/div[1]/div[2]/button[2]').click()\n",
    "        print(f'download {title} failed(수동으로 파일을 다운로드 받으세요)')\n",
    "        continue\n",
    "\n",
    "    driver.get(link)\n",
    "    time.sleep(3)\n",
    "\n",
    "    driver.find_element(By.CSS_SELECTOR, '#board > div > div.down-set > div > button > span').click()\n",
    "    time.sleep(1)\n",
    "\n",
    "    if title in ['2017년도 연차보고서', '2016년도 연차보고서', '2015년도 연차보고서', '2011년도 연차보고서']:\n",
    "        driver.find_element(By.CSS_SELECTOR, '#board > div > div.down-set > dl > dd > ul > li:nth-child(2) > div > a.file').click()\n",
    "        print(f'download {title} done')\n",
    "        continue\n",
    "\n",
    "    try:   \n",
    "        driver.find_element(By.CSS_SELECTOR, '#board > div > div.down-set > dl > dd > ul > li:nth-child(1) > div > a.file').click()\n",
    "    except :\n",
    "        try:\n",
    "            driver.find_element(By.CSS_SELECTOR, '#board > div > div.down-set > dl > dd > ul > li:nth-child(2) > div > a.file').click()\n",
    "        except :\n",
    "            driver.find_element(By.CSS_SELECTOR, '#board > div > div.down-set > dl > dd > ul > li > a').click()\n",
    "\n",
    "    print(f'download {title} done')\n"
   ]
  }
 ],
 "metadata": {
  "kernelspec": {
   "display_name": "Python 3",
   "language": "python",
   "name": "python3"
  },
  "language_info": {
   "codemirror_mode": {
    "name": "ipython",
    "version": 3
   },
   "file_extension": ".py",
   "mimetype": "text/x-python",
   "name": "python",
   "nbconvert_exporter": "python",
   "pygments_lexer": "ipython3",
   "version": "3.12.4"
  }
 },
 "nbformat": 4,
 "nbformat_minor": 2
}
