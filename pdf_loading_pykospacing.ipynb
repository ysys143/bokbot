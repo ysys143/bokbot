{
 "cells": [
  {
   "cell_type": "code",
   "execution_count": 1,
   "metadata": {},
   "outputs": [
    {
     "data": {
      "text/plain": [
       "213192"
      ]
     },
     "execution_count": 1,
     "metadata": {},
     "output_type": "execute_result"
    }
   ],
   "source": [
    "#!pip install git+https://github.com/haven-jeon/PyKoSpacing.git\n",
    "\n",
    "import fitz  # PyMuPDF\n",
    "from pykospacing import Spacing\n",
    "\n",
    "def extract_text_from_pdf(pdf_path):\n",
    "    doc = fitz.open(pdf_path)\n",
    "    text = \"\"\n",
    "    for page in doc:\n",
    "        text += page.get_text()\n",
    "    return text\n",
    "\n",
    "pdf_path = '/Users/jaesolshin/Library/CloudStorage/GoogleDrive-ysys143@gmail.com/내 드라이브/2024-2/Google ML Bootcamp2024/data/bokbot/annual_report/2023년도 연차보고서.pdf'\n",
    "extracted_text = extract_text_from_pdf(pdf_path)\n",
    "\n",
    "spacing = Spacing()\n",
    "corrected_text = spacing(extracted_text)\n",
    "open('corrected_text.txt', 'w', encoding='utf-8').write(corrected_text)"
   ]
  },
  {
   "cell_type": "code",
   "execution_count": null,
   "metadata": {},
   "outputs": [],
   "source": [
    "year_text =[]\n",
    "for year in range(2023, 2003, -1):\n",
    "    pdf_path = f'/Users/jaesolshin/Library/CloudStorage/GoogleDrive-ysys143@gmail.com/내 드라이브/2024-2/Google ML Bootcamp2024/data/bokbot/annual_report/{year}년도 연차보고서.pdf'\n",
    "    extracted_text = extract_text_from_pdf(pdf_path)\n",
    "    spacing = Spacing()\n",
    "    corrected_text = spacing(extracted_text)\n",
    "    year_text.append([year, corrected_text])"
   ]
  },
  {
   "cell_type": "code",
   "execution_count": null,
   "metadata": {},
   "outputs": [],
   "source": [
    "for year, text in year_text:\n",
    "    open(f'corrected_text_{year}.txt', 'w', encoding='utf-8').write(text)"
   ]
  }
 ],
 "metadata": {
  "kernelspec": {
   "display_name": "Python 3",
   "language": "python",
   "name": "python3"
  },
  "language_info": {
   "codemirror_mode": {
    "name": "ipython",
    "version": 3
   },
   "file_extension": ".py",
   "mimetype": "text/x-python",
   "name": "python",
   "nbconvert_exporter": "python",
   "pygments_lexer": "ipython3",
   "version": "3.12.4"
  }
 },
 "nbformat": 4,
 "nbformat_minor": 2
}
