{
 "cells": [
  {
   "cell_type": "code",
   "execution_count": 4,
   "metadata": {},
   "outputs": [],
   "source": [
    "# myenv(3.12.6)"
   ]
  },
  {
   "cell_type": "markdown",
   "metadata": {},
   "source": [
    "rectified_text_2023_2.txt<br>\n",
    "RecursiveCharacterTextSplitter<br>\n",
    "jeonseonjin/embedding_BAAI-bge-m3<br>\n",
    "FAISS<br>\n",
    "Retrieval 과정에서 중복제거<br>\n",
    "gpt-4o<br>"
   ]
  },
  {
   "cell_type": "code",
   "execution_count": 5,
   "metadata": {},
   "outputs": [],
   "source": [
    "#%pip install huggingface_hub langchain langchain-community faiss-cpu sentence-transformers torch accelerate"
   ]
  },
  {
   "cell_type": "code",
   "execution_count": 6,
   "metadata": {},
   "outputs": [],
   "source": [
    "#Use 3.12.4\n",
    "import openai\n",
    "import os\n",
    "from langchain.chat_models import ChatOpenAI\n",
    "from langchain.schema import HumanMessage, AIMessage, SystemMessage\n",
    "from langchain.document_loaders import DirectoryLoader, TextLoader\n",
    "from langchain.docstore.document import Document\n",
    "\n",
    "\n",
    "key_path = '/Users/jaesolshin/key/openai_key.txt'\n",
    "os.environ[\"OPENAI_API_KEY\"] = open(key_path, 'r', encoding='utf-8').read()\n",
    "openai.api_key = os.environ[\"OPENAI_API_KEY\"] "
   ]
  },
  {
   "cell_type": "markdown",
   "metadata": {},
   "source": [
    "# Document Loaders"
   ]
  },
  {
   "cell_type": "code",
   "execution_count": 7,
   "metadata": {},
   "outputs": [],
   "source": [
    "path = '/Users/jaesolshin/Documents/GitHub/bokbot/rectified_text_2023_2.txt'\n",
    "loader = TextLoader(path)\n",
    "documents = loader.load()"
   ]
  },
  {
   "cell_type": "code",
   "execution_count": 8,
   "metadata": {},
   "outputs": [
    {
     "name": "stdout",
     "output_type": "stream",
     "text": [
      "문서개수: 1\n",
      "첫번째 문서의 내용: 기준금리를 3.5%의 긴축적인 수준으로 유지하고, 새마을금고 예금인출사태 등 금융·외환시장 불안에는 시장안정화 조치를 통해 적극 대처하였다. 한국은행은 경제상황에 대한 정확한 진단과 정교한 정책대응을 뒷받침하고자 조사 및 정책연구업무를 적극적으로 수행하였다. 초저출산 및 초고령사회의 극단적인 인구구조 문제, 장기구조적 관점에서 진단한 가계부채 현황, 지역간 인구이동과 지역경제 등에 대한 보고서를 통해 우리나라가 해결해야 할 중장기 과제를 제시하였다. 또한 기후변화 및 AI 확산 등 최신 현안에 대해서도 다각적으로 분석하였다. 일부 업권의 건전성 우려, 금리 메리트 축소 등으로 감소하거나 증가 폭이 둔화되었다. 자산운용사 수신은 주가 상승, 대내외 긴축기조 완화 기대 등으로 주식형 및 채권형 펀드로 자금이 유입되면서 증가 폭이 확대되었다. 2023년 중 기업대출은 은행과 비은행 예금 취급 기관 모두 전년 대비 증가 폭이 축소되었다. 특히 비은행 예금 취급 기관 기업대출은 부동산 경기 부진 등으로 건설·부동산업 관련 대출 수요가 크게 둔화되면서 증가 규모가 전년 대비 큰 폭으로 축소되었다. 한편, 은행 기업대출의 경우 대기업 대출은 기업들이 회사채 대신 대출을 통한 자금 조달을 늘리면서 전년에 이어 높은 증가세를 보였으나, 중소기업 대출은 개인사업자에 대한 코로나19 지원 대출의 상환이 늘면서 증가 폭이 축소되었다. 가계대출은 주택 매매 거래 증가 및 대출 규제 완화, 주택금융공사의 특례 보금자리론 등 정책 금융상품 공급 확대에 힘입어 예금은행 주택담보대출과 기타 금융기관 대출이 늘어나면서 증가 전환하였다. 다만, 높은 금리 수준 및 총부채 원리금 상환 비율(DSR, Debt Service Ratio) 규제, 지방 부동산 경기 회복 지연 등의 영향으로 예금은행 기타 대출과 비은행 예금 취급 기관은 감소세를 지속하였다.경제 동향 금융·외환시장 외환시장 원/달러 환율 상승, 변동성 소폭 축소 2023년 말 원/달러 환율(1,288.0원)은 2022년 말(1,264.5원) 대비 23.5원 상승(1.8% 약세)하였다. 원/달러 환율은 연초 중국의 리오프닝에 따른 경기 회복 기대 및 외국인 증권 투자 자금 유입의 영향으로 1,220.3원까지 하락하였다. 그러나 2월 이후 견조한 미국 경제 지표에 따른 연준 긴축 기조 장기화 우려 및 달러화 강세, SVB 사태 등 주요국 은행 부문 불안, 중국 경기 회복 지연, 유가 상승의 영향 등으로 원/달러 환율은 상승세를 지속하여 10월 초에는 연중 최고치인 1,363.5원까지 상승하였다. 이후 연준의 인플레이션 둔화 진전 평가 등으로 금리 인상 종료 기대가 부각되고, 반도체 경기 회복이 가시화되면서 원/달러 환율은 12월 말 1,288.0원까지 하락하였다. 한편 원화의 명목 실효 환율 지수(BIS 기준)는 미 달러화 및 유로화의 상대적 강세 등의 영향으로 하락하였다. 2023년 말 원화의 명목 실효 환율 지수는 2022년 말(98.23) 대비 1.4% 하락한 97.59를 기록하였다. 원/달러 환율 변동성의 경우 글로벌 외환 시장 변동성 흐름과 비슷한 수준을 시현하였으나 경상 수지 개선, 외국인 증권 자금 유입 지속 등 외환 수급 상황 개선에 힘입어 전년 대비 소폭 낮아졌다. 원/달러 환율의 전일 대비 변동률은 0.47%로 2022년(0.50%)에 비해 소폭 축소되었으며, 주요국 통화의 변동성 범위 내에서 변동하였다. 특히 연간 변동폭(연중 최고치-연중 최저치) 기준으로는 2023년 중 143원을 기록하여 2022년(253원)의 절반 수준으로 크게 축소되었다.외화자금시장 안정세 유지 2023년 중 외화자금시장은 양호한 외화유동성 사정이 지속되며 대체로 안정세를 유지하였다. 내외금리차에서 스왑레이트를 차감한 차익거래유인(3개월 물기준, 거주자 입장에서 달러자금 조달 가산금리)은 3월 SVB 사태 직후 글로벌 달러 유동성 위축 경계감으로 일시 확대되기도 했지만 이후 빠르게 축소되는 등 외화자금 조달 여건은 대체로 원활하였다. 한편 2023년 중국 내 기업과 은행이 해외에서 발행한 외화채권의 가산금리(KP 스프레드) 및 외평채 CDS 프리미엄은 작년 하반기 대비 축소되며 낮은 수준을 유지하였다.입력: Ⅱ- 1. 주요 이슈 44 Ⅱ- 2.  \n",
      "출력: \n",
      "\n",
      "입력: 표 Ⅱ- 13. 외화자산 구성 내역 (기말 기준) (%, %p) 2021 2022(A) 2023(B) 증감(B-A)  \n",
      "출력: \n",
      "\n",
      "입력: 127) 한국은행의 업무 관련 지식, 정책 수행 경험...  \n",
      "출력: \n",
      "\n",
      "입력: 주요 품목별 수출 (%)  \n",
      "2022 2023  \n",
      "증감률 비중 증감률 비중  \n",
      "IT제품 2.5 <34.1> -19.9 <29.5> ...  \n",
      "출력: \n",
      "\n",
      "입력: 23 Ⅰ 경제 동향 2 금융･외환시장 QR BOX QR1 통화신용정책보고서 웹페이지 QR2 경제전망보고서 웹페이지 QR3 금융안정보고서 웹페이지 QR4 지역경제보고서 웹페이지 QR5 한국은행 블로그  \n",
      "출력:주요 이슈\n",
      "\n",
      "통화신용정책 한국은행은 통화신용정책의 효율적인 수립과 집행을 통해 물가 안정을 도모하고 금융 안정에도 유의하면서 국민경제의 건전한 발전에 이바지하기 위해 최선의 노력을 기울이고 있다. 통화정책 운영체계로 물가 안정 목표제를 채택하고 있으며 동 체계하에서도 정책 결정은 물가 상황 외에 경제 성장, 금융 안정 등을 종합적으로 고려하여 이루어진다. 한국은행은 이러한 정책 목표를 효과적으로 달성하는 방향으로 기준금리를 운영하고 있으며, 공개시장 운영, 여수신 제도, 지급준비 제도 등의 정책 수단을 활용하고 있다.\n",
      "\n",
      "가. 물가 안정 목표 한국은행은 2016년 이후 물가 안정 목표를 소비자 물가 상승률(전년 동기 대비) 기준 2%로 설정하고 있다. 2019년부터 적용되는 ｢2019년 이후 물가 안정 목표｣ 설정 시에는 목표 수준을 종전(2016∼18년)과 동일하게 2%로 유지하는 가운데, 물가 안정 목표의 적용 기간을 특정하지 않는 방식으로 변경하였다. 한국은행은 중기적 시계에서 소비자 물가 상승률이 물가 안정 목표에 근접하도록 통화신용정책을 운영하고 있다. 2023년 중 소비자 물가 상승률은 국제 원자재 가격 하락, 통화 긴축에 따른 수요 측 물가 압력 완화 등의 영향으로 3.6%로 낮아졌으나 2022년에 이어 물가 안정 목표를 상회하였다.\n",
      "\n",
      "나. 기준금리 한국은행은 2023년 중 성장세를 점검하면서 중기적 시계에서 물가 상승률이 목표 수준(2%)에서 안정될 수 있도록 기준금리를 긴축적인 수준에서 운용하였다. 이 과정에서 인플레이션 둔화 흐름, 금융 안정 측면의 리스크와 성장의 하방 위험, 가계부채 추이, 그간의 금리 인상 파급 효과, 주요국의 통화정책 변화, 지정학적 리스크 등을 면밀히 점검하였다. 기간별로 살펴보면, 우선 1월에는 기준금리를 연 3.25%에서 3.50%로 0.25% 포인트 인상하였다. 이는 2023년 중 성장률이 2022년보다 낮아질 것으로 예상되었지만, 물가 상승률이 여전히 5%대의 높은 수준을 나타내고 있고 앞으로도 상당 기간 목표 수준을 상회할 것으로 전망됨에 따라 물가 안정을 위해서는 통화 긴축 강도를 강화하는 것이 적절하다고 판단하였기 때문이다. \n",
      "\n",
      "한국은행이 수행한 통화신용정책의 상세한 내용은 한국은행이 발간하는 ｢통화신용정책보고서(분기)｣의 ｢Ⅱ. 통화신용정책 운영｣에서 확인할 수 있다. 한국은행의 통화정책 체계에 대한 상세한 설명은 한국은행이 발간한 ｢한국의 통화정책(2017)｣에서 확인할 수 있다.업무 현황 통화신용정책이라고 판단하였기 때문이다. 2월 이후에는 물가상승률의 기조적인 둔화 흐름을 이어갔지만 목표 수준을 상회하는 오름세가 연중 이어짐에 따라 기준금리를 긴축적인 수준인 3.5%에서 유지하면서 추가 인상 필요성을 판단하였다. 2월 이후의 대내외 정책 여건을 좀 더 구체적으로 살펴보면, 우선 7월까지는 소비자물가 상승률이 2.4%까지 낮아지는 등 한국은행이 예상한 대로 물가 둔화 흐름이 이어졌다. 다만 근원물가 상승률은 7월 중 3.2%를 나타내는 등 예상보다 더디게 둔화되었다. 국내 경기는 상반기까지 부진한 흐름을 나타내었고 금융안정 측면에서는 2022년 말 크게 증대되었던 시장 불안이 완화되고 있었지만 부동산시장 경착륙에 대한 우려가 완전히 해소된 상황은 아니었다. 대외적으로는 SVB 파산사태 등으로 주요국의 금융안정 리스크가 증대되었다가 점차 안정되었으며, 미연준이 금리 인상 속도를 조절하면서 외환 부문 변동성이 완화되고 국제 유가도 상반기까지는 안정적인 흐름을 나타내었다. 8월 이후에는 정책 여건의 불확실성이 다시 확대되었다. 성장세가 수출을 중심으로 완만히 개선되었지만, 소비자 물가 상승률이 9∼10월 중국제 유가 상승과 기상 여건 악화의 영향으로 당초 예상을 상회하는 3%대 후반으로 높아졌다. 또한 미연준이 금리 장기화를 시사하고 이스라엘-하마스 사태도 발생하면서 향후 물가와 성장 전망 경로, 외환 부문 리스크 등과 관련한 불확실성이 다시 높아졌다. 금융안정 측면에서는 주택가격 상승 기대 등으로 3/4분기 이후 가계부채 증가세가 크게 확대되었다. 11∼12월 중에는 완만한 성장세 개선이 이어지는 가운데 소비자 물가 상승률이 국제 유가 하락과 농산물 가격 안정에 힘입어 3%대 초반으로 낮아졌다. 금융안정 측면에서는 부동산 PF 관련 리스크가 증대되었고 가계부채는 주택가격 상승 기대가 약화되면서 증가세가 둔화되었다. 대외 측면에서는 미연준이 금리 인상을 사실상 종료하면서 외환 부문 리스크가 완화되었지만 이스라엘-하마스 전쟁이 장기화되고 홍해 지역 긴장이 높아지는 등 지정학적 리스크와 관련한 불확실성은 지속되었다. 한국은행은 이러한 대내외 정책 여건, 즉 물가 상승률이 기조적인 둔화 흐름을 이어갔지만 연중 물가 목표를 상회하는 오름세가 이어지고 경기와 금융안정 측면의 리스크가 상존하고 있었던 데다가 가계부채 추이, 미연준 통화정책, 지정학적 리스크 등과 관련한 높은 불확실성도 지속된 점을 고려할 때 기준금리를 긴축적인 수준에서 유지하고 그간의 3.0% 포인트 인상의 파급 효과를 점검하면서 추가 인상 필요성을 판단해 나가는 것이 필요하다.주요 이슈이다. 이 같은 2023년 중 통화 긴축 기조 지속은 총수요 압력을 약화시키고 인플레이션 기대 심리를 억제함으로써 물가 상승 압력을 완화시키는 데 기여한 것으로 평가된다. 아울러 여수신 금리를 높은 수준에서 유지시키는 등 자금조달 비용을 높임으로써 국내 총생산 대비 가계부채 비율을 완만히 낮추는 요인으로도 작용하고 있는 것으로 평가된다. 한국은행은 통화신용정책 등을 수행함에 있어 금융기관 등을 대상으로 여수신 업무를 수행한다. 2023년 중 운용한 여신 업무로는 금융중개지원대출, 자금조정대출, 일중당좌대출 등이 있으며, 수신 업무로는 당좌예금, 자금조정예금 및 통화 안정계정 예치금 등이 있다. 금융기관 등에 대한 원화 대출금은 2023년말 19조 5,262억원으로 2022년말 대비 21조 4,488억원 감소하였다. 예수금은 2023년말 140조 4,163억원으로 2022년말 대비 28조 488억원 감소하였으며, 내역별로는 원화 예수금이 13조 8,135억원 감소하고 외화 예수금이 14조 2,353억원 감소하였다. 금융중개지원대출 실효성 제고를 위한 프로그램 개편 및 한도 유보분 확보를 위해 한국은행은 금융중개지원대출의 실효성을 제고할 수 있도록 지방 중소기업 지원 프로그램 및 신 성장·일자리 지원 프로그램을 개편하였다. 2023년 9월에는 지역 내 업종별 자금 수요에 보다 적절하다고 판단하였다.업무 현황에 따르면 통화 신용 정책은 효과적으로 대응할 수 있도록 기존에 한시적으로 도입되었던 지방 중소기업 지원 프로그램 내 특별 지원 부문을 상시 운용하기로 결정하였다. 또한 한국은행 지역 본부장은 지역 경제 여건과 산업 특성을 고려하여 해당 지역 본부에 배정된 한도를 전략, 특별 및 일반 지원 부문으로 구분하여 탄력적으로 운용할 수 있도록 하였다. 10월에는 신성장·일자리 지원 프로그램의 지원 효과를 제고하기 위해 창업 기업 및 일자리 창출 기업 지원 요건을 개편하여 2024년 1월부터 시행하기로 하였다. 창업 기업 지원 부문에서는 기술형 창업 기업에 대해 지원 제외 업종을 신설하여 적용하는 한편, 한국 신용 정보원의 기술 신용 평가사 등에 대한 기술 평가 품질 심사 결과를 지원 대상 요건에 반영하기로 하였다. 일자리 창출 기업 지원 부문에서는 관련 법령 개정 사항 등을 반영하여 지원 대상 요건을 정비하고 금융 기관의 대출 실적 인정 비율을 75%에서 50%로 하향 조정하였다. 12월부터는 금융 중개 지원 대출 총 한도를 39.8조 원에서 30조 원으로 조정하였다. 코로나19 위기 당시 신설한 한시 프로그램인 ‘코로나19 피해 기업 지원’ 및 ‘소상공인 지원’ 특별 지원 부문은 2014년 9월 세월호 사고 여파로 어려움을 겪고 있는 경기 부진 업종에 대한 지원을 목적으로 신설되었으며, 이후 다양한 대내외 리스크 확산 등으로 어려움을 겪는 중소기업을 지원하기 위해 운용 기한을 4차에 걸쳐 2023년 8월 말까지 연장하였다. 전략 지원 부문은 지역 경제 여건 및 특성을 감안하여 중점 지원이 필요하다고 각 지역 본부장이 인정한 지역 전략 산업 및 지역 특화 산업 등에 대하여 금융 기관 대출 취급 실적의 50%를 지원하고, 특별 지원 부문은 각 지역 본부장이 선정한 경기 부진 업종의 운전자금 대출에 한하여 금융 기관 대출 취급 실적의 50%를 지원한다. 일반 지원 부문은 전략 및 특별 지원 부문 이외에 기타 지원이 필요하다고 각 지역 본부장이 인정한 부문에 대하여 금융 기관 대출 취급 실적의 50% 이내에서 비례 배분으로 지원한다. 각 지역 본부별 상황에 맞는 맞춤형 정책 대응이 가능하도록 지역 본부장 재량으로 각 지역 본부별 전체 배정액의 40% 이상을 전략 지원 부문으로 운용하고, 나머지는 특별 또는 일반 지원 부문으로 운용할 수 있도록 개편하였다. 기술형 창업 기업도 일반 창업 기업 및 일자리 창출 기업 지원 부문과 동일하게 지원 제외 업종을 적용하며, ‘기술 평가 품질 관리 위원회’ 심사 결과가 미흡으로 판정된 외부 TCB사 및 자체 TCB 은행의 기술 평가 보증서를 기반으로 한 대출을 지원 대상 대출 실적에서 배제하기로 하였다. 다만, 창업 기업 지원 부문과 관련하여 ‘기술 평가 품질 관리 위원회’ 심사 결과 반영은 2024년 상반기 심사 결과가 나온 날부터 시행하기로 하였다. 통합 고용 세액 공제는 지원 대상 기업 요건에 포함되고, 지원 대상을 직전 과세 연도에 ‘세액 공제를 받은 기업’ 대신 ‘공제 세액이 발생한 기업’으로 변경하였다. 2023년 말 기준 금융 중개 지원 대출은 무역 금융 지원 프로그램, 신성장·일자리 지원 프로그램, 중소기업 대출 안정화 프로그램, 지방 중소기업 지원 프로그램 등으로 총 한도는 30.0조 원 규모로 운용하고 있다.기준금리를 3.5%의 긴축적인 수준으로 유지하고, 새마을금고 예금 인출사태 등 금융ㆍ외환시장 불안에는 시장안정화 조치를 통해 적극 대처하였다. 한국은행은 경제상황에 대한 정확한 진단과 정교한 정책 대응을 뒷받침하고자 조사 및 정책연구 업무를 적극적으로 수행하였다. 초저출산 및 초고령사회의 극단적인 인구구조 문제, 장기 구조적 관점에서 진단한 가계부채 현황, 지역 간 인구이동과 지역경제 등에 대한 보고서를 통해 우리나라가 해결해야 할 중장기 과제를 제시하였다. 또한 기후변화 및 AI 확산 등 최신 현안에 대해서도 다루었다.\n",
      "\n",
      "(6조 원)이 예정대로 종료됨에 따라 동 한도 19조 원을 감액하는 한편, 한도 유보분 내에 한시적 예비한도 9조 원을 확보하고 재해복구 특별지원 한도를 0.1조 원에서 0.3조 원으로 0.2조 원 증액하면서 총 한도를 9.8조 원 감액하였다. 금융중개지원 대출 지원금리의 경우 2023년 1월 13일 기준금리 인상 등을 반영하여 연 1.75%에서 연 2.00%로 0.25% 포인트 인상한 이후 2023년 말까지 연 2.00% 수준을 유지하였다. \n",
      "\n",
      "한국은행은 콜금리(익일물)를 금융통화위원회가 정한 기준금리 수준에서 유지하기 위해 통화안정증권, 환매조건부증권(RP), 통화안정계정 등 다양한 공개시장 운영 수단을 활용하여 유동성을 신축적으로 조절하였다. 아울러 공개시장 운영 여건 변화에 맞춰 통화안정증권 발행 제도를 개선함으로써 유동성 조절의 효율성을 제고하였다. \n",
      "\n",
      "2023년 중 유동성 조절 필요 규모는 141조 2천억 원으로 전년 대비 19조 4천억 원 감소하였다. 이는 화폐 발행 증가, 금융중개지원 대출 잔액 감소 등으로 지준 공급이 축소된 데 주로 기인하였다. 이에 한국은행은 주로 통화안정증권 발행 규모 및 RP 매각 규모를 축소하는 방식으로 대응하였다. \n",
      "\n",
      "한국은행은 2024년 1월 11일 한도 유보분 9조 원을 활용하여 「중소기업 한시 특별지원」을 실시하기로 결정하였다. 동 조치는 2024년 2월부터 7월까지 6개월 간 한시적으로 실시될 예정이다. \n",
      "\n",
      "유동성 조절 필요 규모는 은행이 중앙은행 계좌에 실제로 예치하고 있는 잔액인 ‘지준 공급’과 은행이 중앙은행에 의무적으로 적립해야 하는 법정 지급준비금인 ‘지준 수요’의 차이로 정의한다. 민간의 현금 보유(화폐 발행액) 확대 등으로 은행의 중앙은행 계좌 잔액인 지준 공급이 감소하거나 예금 수신 증가 등에 따라 은행의 중앙은행 계좌 적립 필요 규모인 지준 수요가 증가할 경우 유동성 조절 필요 규모가 감소한다. \n",
      "\n",
      "금융중개지원 대출 중 코로나19 피해 중소기업 및 소상공인을 위한 한시 프로그램 신규 지원이 2022년 9월 말 종료됨에 따라 2022년 10월부터 2023년 9월까지 총 19조 원(코로나19 피해기업 지원 13조 원, 소상공인 지원 6조 원)이 순차적으로 상환되었다. 이에 따라 시중 유동성이 회수되면서 지준 공급이 감소하였다.\n",
      "첫번째 문서의 메타데이터: {'source': '/Users/jaesolshin/Documents/GitHub/bokbot/rectified_text_2023_2.txt'}\n"
     ]
    }
   ],
   "source": [
    "print(f'문서개수: {len(documents)}')\n",
    "print(f'첫번째 문서의 내용: {documents[0].page_content}')\n",
    "print(f'첫번째 문서의 메타데이터: {documents[0].metadata}')"
   ]
  },
  {
   "cell_type": "markdown",
   "metadata": {},
   "source": [
    "# Text Splitting"
   ]
  },
  {
   "cell_type": "code",
   "execution_count": 9,
   "metadata": {},
   "outputs": [
    {
     "name": "stdout",
     "output_type": "stream",
     "text": [
      "분할 전 문서 개수: 1\n",
      "분할 후 문서 개수: 61\n"
     ]
    }
   ],
   "source": [
    "import re\n",
    "from langchain.text_splitter import RecursiveCharacterTextSplitter\n",
    "\n",
    "text_splitter = RecursiveCharacterTextSplitter(\n",
    "    chunk_size=200,   # 원하는 청크 크기 설정\n",
    "    chunk_overlap=50,  # 중첩되는 토큰 수\n",
    "    separators=[\"\\n\\n\", \"\\n\", \". \", \"? \", \"! \"]  # 사용자 정의 분할 함수 추가\n",
    ")\n",
    "\n",
    "#text_splitter = CharacterTextSplitter(separator = \"\\n\", chunk_size = 300, chunk_overlap  = 100, length_function = len,)\n",
    "\n",
    "splitted_documents = text_splitter.split_documents(documents)\n",
    "\n",
    "# 분할 후 각 문서의 내용을 정리\n",
    "# 문장이 마침표로 시작하면 마침표 제거\n",
    "# 문장이 마침표로 끝나지 않으면 마침표 추가\n",
    "for i in range(len(splitted_documents)):\n",
    "    splitted_documents[i].page_content = splitted_documents[i].page_content.strip('. ').strip()\n",
    "    if not splitted_documents[i].page_content.endswith('.'):\n",
    "        splitted_documents[i].page_content += '.'\n",
    "\n",
    "# 분할 결과 출력\n",
    "print(f'분할 전 문서 개수: {len(documents)}')\n",
    "print(f'분할 후 문서 개수: {len(splitted_documents)}')\n",
    "\n"
   ]
  },
  {
   "cell_type": "markdown",
   "metadata": {},
   "source": [
    "# Vector DB"
   ]
  },
  {
   "cell_type": "code",
   "execution_count": 10,
   "metadata": {},
   "outputs": [
    {
     "name": "stderr",
     "output_type": "stream",
     "text": [
      "/opt/anaconda3/envs/myenv/lib/python3.12/site-packages/pydantic/_internal/_fields.py:132: UserWarning: Field \"model_name\" in HuggingFaceInferenceAPIEmbeddings has conflict with protected namespace \"model_\".\n",
      "\n",
      "You may be able to resolve this warning by setting `model_config['protected_namespaces'] = ()`.\n",
      "  warnings.warn(\n",
      "/var/folders/hw/9m3g7fvn4_l3rp2y473km9sm0000gn/T/ipykernel_95919/260949204.py:12: LangChainDeprecationWarning: The class `HuggingFaceEmbeddings` was deprecated in LangChain 0.2.2 and will be removed in 1.0. An updated version of the class exists in the :class:`~langchain-huggingface package and should be used instead. To use it run `pip install -U :class:`~langchain-huggingface` and import as `from :class:`~langchain_huggingface import HuggingFaceEmbeddings``.\n",
      "  embedding_model = HuggingFaceEmbeddings(model_name=\"jeonseonjin/embedding_BAAI-bge-m3\")\n",
      "/opt/anaconda3/envs/myenv/lib/python3.12/site-packages/sentence_transformers/cross_encoder/CrossEncoder.py:13: TqdmWarning: IProgress not found. Please update jupyter and ipywidgets. See https://ipywidgets.readthedocs.io/en/stable/user_install.html\n",
      "  from tqdm.autonotebook import tqdm, trange\n"
     ]
    }
   ],
   "source": [
    "#분할된 문장을 벡터db에 저장\n",
    "#!pip install tiktoken\n",
    "#!pip install chromadb==0.5.3 \n",
    "from langchain.embeddings.huggingface import HuggingFaceEmbeddings\n",
    "from langchain.docstore.in_memory import InMemoryDocstore\n",
    "from langchain.docstore.document import Document\n",
    "from langchain import FAISS\n",
    "import faiss\n",
    "import numpy as np\n",
    "\n",
    "# SentenceTransformer 모델 로드\n",
    "embedding_model = HuggingFaceEmbeddings(model_name=\"jeonseonjin/embedding_BAAI-bge-m3\")\n",
    "\n",
    "# SentenceTransformer 적재를 위해 Document 객체에서 텍스트 추출\n",
    "texts = [doc.page_content for doc in splitted_documents]\n",
    "\n",
    "# 문서 임베딩 생성\n",
    "embeddings = embedding_model.embed_documents(texts)\n",
    "\n",
    "# FAISS 인덱스 생성\n",
    "d = len(embeddings[0])  # 임베딩 차원 (예: 384차원)\n",
    "#index = faiss.IndexFlatL2(d)  # L2 거리 기반의 FAISS 인덱스 생성\n",
    "index = faiss.IndexFlatIP(d)  # 내적을 사용하여 코사인 유사도 기반 인덱스 생성\n",
    "index.add(np.array(embeddings))\n",
    "\n",
    "# FAISS 인덱스를 파일로 저장\n",
    "faiss.write_index(index, 'faiss_index.bin')"
   ]
  },
  {
   "cell_type": "markdown",
   "metadata": {},
   "source": [
    "# Retrieval"
   ]
  },
  {
   "cell_type": "code",
   "execution_count": 11,
   "metadata": {},
   "outputs": [
    {
     "name": "stdout",
     "output_type": "stream",
     "text": [
      "FAISS index loaded from file.\n",
      "문서 개수: 5\n",
      "문서 내용: 한국은행은 이러한 정책 목표를 효과적으로 달성하는 방향으로 기준금리를 운영하고 있으며, 공개시장 운영, 여수신 제도, 지급준비 제도 등의 정책 수단을 활용하고 있다.\n",
      "문서 내용: 통화신용정책 한국은행은 통화신용정책의 효율적인 수립과 집행을 통해 물가 안정을 도모하고 금융 안정에도 유의하면서 국민경제의 건전한 발전에 이바지하기 위해 최선의 노력을 기울이고 있다. 통화정책 운영체계로 물가 안정 목표제를 채택하고 있으며 동 체계하에서도 정책 결정은 물가 상황 외에 경제 성장, 금융 안정 등을 종합적으로 고려하여 이루어진다.\n",
      "문서 내용: 한국은행이 수행한 통화신용정책의 상세한 내용은 한국은행이 발간하는 ｢통화신용정책보고서(분기)｣의 ｢Ⅱ. 통화신용정책 운영｣에서 확인할 수 있다. 한국은행의 통화정책 체계에 대한 상세한 설명은 한국은행이 발간한 ｢한국의 통화정책(2017)｣에서 확인할 수 있다.업무 현황 통화신용정책이라고 판단하였기 때문이다.\n",
      "문서 내용: 가. 물가 안정 목표 한국은행은 2016년 이후 물가 안정 목표를 소비자 물가 상승률(전년 동기 대비) 기준 2%로 설정하고 있다. 2019년부터 적용되는 ｢2019년 이후 물가 안정 목표｣ 설정 시에는 목표 수준을 종전(2016∼18년)과 동일하게 2%로 유지하는 가운데, 물가 안정 목표의 적용 기간을 특정하지 않는 방식으로 변경하였다.\n",
      "문서 내용: 한국은행은 이러한 대내외 정책 여건, 즉 물가 상승률이 기조적인 둔화 흐름을 이어갔지만 연중 물가 목표를 상회하는 오름세가 이어지고 경기와 금융안정 측면의 리스크가 상존하고 있었던 데다가 가계부채 추이, 미연준 통화정책, 지정학적 리스크 등과 관련한 높은 불확실성도 지속된 점을 고려할 때 기준금리를 긴축적인 수준에서 유지하고 그간의 3.0% 포인트 인상의 파급 효과를 점검하면서 추가 인상 필요성을 판단해 나가는 것이 필요하다.주요 이슈이다.\n"
     ]
    }
   ],
   "source": [
    "\n",
    "# 벡터db에 연결\n",
    "from langchain.embeddings.huggingface import HuggingFaceEmbeddings\n",
    "from langchain.docstore.in_memory import InMemoryDocstore\n",
    "from langchain.docstore.document import Document\n",
    "from langchain import FAISS\n",
    "\n",
    "# FAISS 인덱스를 파일에서 불러오기\n",
    "if os.path.exists('faiss_index.bin'):\n",
    "    index = faiss.read_index('faiss_index.bin')\n",
    "    print(\"FAISS index loaded from file.\")\n",
    "else:\n",
    "    print(\"FAISS index file not found.\")\n",
    "\n",
    "# SentenceTransformer 모델 로드\n",
    "embedding_model = HuggingFaceEmbeddings(model_name=\"jeonseonjin/embedding_BAAI-bge-m3\")\n",
    "\n",
    "# LangChain의 FAISS와 연결\n",
    "docstore = InMemoryDocstore({i: Document(page_content=texts[i]) for i in range(len(texts))})\n",
    "database = FAISS(embedding_function=embedding_model, index=index, docstore=docstore, index_to_docstore_id={i: i for i in range(len(texts))})\n",
    "\n",
    "# 쿼리 제시\n",
    "query = '올해 한국은행의 정책목표 중 가장 중요한 것은 무엇인가? 답변과 함께 근거를 제시하라'\n",
    "results = database.similarity_search(query, k=5) \n",
    "\n",
    "\n",
    "# 답변에서 중복 제거\n",
    "unique_results = {result.page_content: result for result in results}.values()\n",
    "\n",
    "print(f'문서 개수: {len(unique_results)}')\n",
    "\n",
    "for d in unique_results:\n",
    "    print(f'문서 내용: {d.page_content}')"
   ]
  },
  {
   "cell_type": "code",
   "execution_count": 12,
   "metadata": {},
   "outputs": [
    {
     "name": "stdout",
     "output_type": "stream",
     "text": [
      "문서 개수: 5\n",
      "문서 내용: 한국은행은 이러한 정책 목표를 효과적으로 달성하는 방향으로 기준금리를 운영하고 있으며, 공개시장 운영, 여수신 제도, 지급준비 제도 등의 정책 수단을 활용하고 있다.\n",
      "문서 내용: 한국은행은 이러한 대내외 정책 여건, 즉 물가 상승률이 기조적인 둔화 흐름을 이어갔지만 연중 물가 목표를 상회하는 오름세가 이어지고 경기와 금융안정 측면의 리스크가 상존하고 있었던 데다가 가계부채 추이, 미연준 통화정책, 지정학적 리스크 등과 관련한 높은 불확실성도 지속된 점을 고려할 때 기준금리를 긴축적인 수준에서 유지하고 그간의 3.0% 포인트 인상의 파급 효과를 점검하면서 추가 인상 필요성을 판단해 나가는 것이 필요하다.주요 이슈이다.\n",
      "문서 내용: 한국은행은 콜금리(익일물)를 금융통화위원회가 정한 기준금리 수준에서 유지하기 위해 통화안정증권, 환매조건부증권(RP), 통화안정계정 등 다양한 공개시장 운영 수단을 활용하여 유동성을 신축적으로 조절하였다. 아울러 공개시장 운영 여건 변화에 맞춰 통화안정증권 발행 제도를 개선함으로써 유동성 조절의 효율성을 제고하였다.\n",
      "문서 내용: 기준금리를 3.5%의 긴축적인 수준으로 유지하고, 새마을금고 예금인출사태 등 금융·외환시장 불안에는 시장안정화 조치를 통해 적극 대처하였다. 한국은행은 경제상황에 대한 정확한 진단과 정교한 정책대응을 뒷받침하고자 조사 및 정책연구업무를 적극적으로 수행하였다.\n",
      "문서 내용: 나. 기준금리 한국은행은 2023년 중 성장세를 점검하면서 중기적 시계에서 물가 상승률이 목표 수준(2%)에서 안정될 수 있도록 기준금리를 긴축적인 수준에서 운용하였다.\n"
     ]
    }
   ],
   "source": [
    "query = '최근 한국은행이 기준금리를 조정한 이유는 무엇인가요?'\n",
    "\n",
    "results = database.similarity_search(query, k=5) \n",
    "\n",
    "# 답변에서 중복 제거\n",
    "unique_results = {result.page_content: result for result in results}.values()\n",
    "\n",
    "print(f'문서 개수: {len(unique_results)}')\n",
    "\n",
    "for d in unique_results:\n",
    "    print(f'문서 내용: {d.page_content}')"
   ]
  },
  {
   "cell_type": "code",
   "execution_count": 13,
   "metadata": {},
   "outputs": [
    {
     "name": "stdout",
     "output_type": "stream",
     "text": [
      "문서 개수: 5\n",
      "문서 내용: 통화신용정책 한국은행은 통화신용정책의 효율적인 수립과 집행을 통해 물가 안정을 도모하고 금융 안정에도 유의하면서 국민경제의 건전한 발전에 이바지하기 위해 최선의 노력을 기울이고 있다. 통화정책 운영체계로 물가 안정 목표제를 채택하고 있으며 동 체계하에서도 정책 결정은 물가 상황 외에 경제 성장, 금융 안정 등을 종합적으로 고려하여 이루어진다.\n",
      "문서 내용: 한국은행이 수행한 통화신용정책의 상세한 내용은 한국은행이 발간하는 ｢통화신용정책보고서(분기)｣의 ｢Ⅱ. 통화신용정책 운영｣에서 확인할 수 있다. 한국은행의 통화정책 체계에 대한 상세한 설명은 한국은행이 발간한 ｢한국의 통화정책(2017)｣에서 확인할 수 있다.업무 현황 통화신용정책이라고 판단하였기 때문이다.\n",
      "문서 내용: 한국은행은 통화신용정책 등을 수행함에 있어 금융기관 등을 대상으로 여수신 업무를 수행한다. 2023년 중 운용한 여신 업무로는 금융중개지원대출, 자금조정대출, 일중당좌대출 등이 있으며, 수신 업무로는 당좌예금, 자금조정예금 및 통화 안정계정 예치금 등이 있다.\n",
      "문서 내용: 한국은행은 콜금리(익일물)를 금융통화위원회가 정한 기준금리 수준에서 유지하기 위해 통화안정증권, 환매조건부증권(RP), 통화안정계정 등 다양한 공개시장 운영 수단을 활용하여 유동성을 신축적으로 조절하였다. 아울러 공개시장 운영 여건 변화에 맞춰 통화안정증권 발행 제도를 개선함으로써 유동성 조절의 효율성을 제고하였다.\n",
      "문서 내용: 입력: 23 Ⅰ 경제 동향 2 금융･외환시장 QR BOX QR1 통화신용정책보고서 웹페이지 QR2 경제전망보고서 웹페이지 QR3 금융안정보고서 웹페이지 QR4 지역경제보고서 웹페이지 QR5 한국은행 블로그  \n",
      "출력:주요 이슈.\n"
     ]
    }
   ],
   "source": [
    "query = '한국은행의 통화정책과 금융안정 정책의 차이점은 무엇인가요?'\n",
    "\n",
    "results = database.similarity_search(query, k=5) \n",
    "\n",
    "# 답변에서 중복 제거\n",
    "unique_results = {result.page_content: result for result in results}.values()\n",
    "\n",
    "print(f'문서 개수: {len(unique_results)}')\n",
    "\n",
    "for d in unique_results:\n",
    "    print(f'문서 내용: {d.page_content}')"
   ]
  },
  {
   "cell_type": "code",
   "execution_count": 14,
   "metadata": {},
   "outputs": [
    {
     "name": "stdout",
     "output_type": "stream",
     "text": [
      "문서 개수: 5\n",
      "문서 내용: 통화신용정책 한국은행은 통화신용정책의 효율적인 수립과 집행을 통해 물가 안정을 도모하고 금융 안정에도 유의하면서 국민경제의 건전한 발전에 이바지하기 위해 최선의 노력을 기울이고 있다. 통화정책 운영체계로 물가 안정 목표제를 채택하고 있으며 동 체계하에서도 정책 결정은 물가 상황 외에 경제 성장, 금융 안정 등을 종합적으로 고려하여 이루어진다.\n",
      "문서 내용: 기준금리를 3.5%의 긴축적인 수준으로 유지하고, 새마을금고 예금인출사태 등 금융·외환시장 불안에는 시장안정화 조치를 통해 적극 대처하였다. 한국은행은 경제상황에 대한 정확한 진단과 정교한 정책대응을 뒷받침하고자 조사 및 정책연구업무를 적극적으로 수행하였다.\n",
      "문서 내용: 한국은행은 이러한 정책 목표를 효과적으로 달성하는 방향으로 기준금리를 운영하고 있으며, 공개시장 운영, 여수신 제도, 지급준비 제도 등의 정책 수단을 활용하고 있다.\n",
      "문서 내용: 한국은행은 통화신용정책 등을 수행함에 있어 금융기관 등을 대상으로 여수신 업무를 수행한다. 2023년 중 운용한 여신 업무로는 금융중개지원대출, 자금조정대출, 일중당좌대출 등이 있으며, 수신 업무로는 당좌예금, 자금조정예금 및 통화 안정계정 예치금 등이 있다.\n",
      "문서 내용: 한국은행은 콜금리(익일물)를 금융통화위원회가 정한 기준금리 수준에서 유지하기 위해 통화안정증권, 환매조건부증권(RP), 통화안정계정 등 다양한 공개시장 운영 수단을 활용하여 유동성을 신축적으로 조절하였다. 아울러 공개시장 운영 여건 변화에 맞춰 통화안정증권 발행 제도를 개선함으로써 유동성 조절의 효율성을 제고하였다.\n"
     ]
    }
   ],
   "source": [
    "query = '한국은행의 최근 금융시장 안정화 조치는 무엇이었나요?'\n",
    "\n",
    "results = database.similarity_search(query, k=5) \n",
    "\n",
    "# 답변에서 중복 제거\n",
    "unique_results = {result.page_content: result for result in results}.values()\n",
    "\n",
    "print(f'문서 개수: {len(unique_results)}')\n",
    "\n",
    "for d in unique_results:\n",
    "    print(f'문서 내용: {d.page_content}')"
   ]
  },
  {
   "cell_type": "markdown",
   "metadata": {},
   "source": [
    "# Query Augmentation"
   ]
  },
  {
   "cell_type": "code",
   "execution_count": 21,
   "metadata": {},
   "outputs": [],
   "source": [
    "import torch\n",
    "from transformers import AutoTokenizer, AutoModelForCausalLM, pipeline\n",
    "from langchain import HuggingFacePipeline\n",
    "\n",
    "# MPS 디바이스 설정\n",
    "device = torch.device(\"mps\") if torch.backends.mps.is_available() else torch.device(\"cpu\")\n",
    "\n",
    "#모델 설정\n",
    "chat = ChatOpenAI(model='gpt-4o')"
   ]
  },
  {
   "cell_type": "code",
   "execution_count": 22,
   "metadata": {},
   "outputs": [
    {
     "data": {
      "text/plain": [
       "'올해 한국은행의 정책목표 중 가장 중요한 것은 물가 안정입니다. 한국은행은 통화신용정책의 효율적인 수립과 집행을 통해 물가 안정을 도모하고, 금융 안정에도 유의하면서 국민경제의 건전한 발전을 위해 노력하고 있습니다.'"
      ]
     },
     "execution_count": 22,
     "metadata": {},
     "output_type": "execute_result"
    }
   ],
   "source": [
    "from langchain.chains import RetrievalQA\n",
    "\n",
    "# Retriever 설정\n",
    "retriever = database.as_retriever()  # 데이터베이스를 Retriever로 변환\n",
    "\n",
    "get_answer = RetrievalQA.from_llm( #RetrievalQA를 초기화\n",
    "    llm=chat, #Chat models를 지정\n",
    "    retriever = retriever, #Retriever를 지정\n",
    "    return_source_documents=False #응답에 원본 문서를 포함할지 결정\n",
    ")\n",
    "\n",
    "query = \"올해 한국은행의 정책목표 중 가장 중요한 것은 무엇인가?\"\n",
    "\n",
    "def answer_to_query(query):\n",
    "    answer = get_answer(query)  # 답변 요청\n",
    "    result_text = answer.get('result', '')  # 결과에서 'result' 키를 안전하게 가져오기\n",
    "\n",
    "    # 특정 텍스트 패턴 제거 로직\n",
    "    if 'Helpful Answer:\\n' in result_text:\n",
    "        parts = result_text.split('Helpful Answer:\\n')\n",
    "        answer_parsed = parts[1].strip() if len(parts) > 1 else parts[0].strip()\n",
    "    elif 'Answer:' in result_text:\n",
    "        answer_parsed = result_text.split('Answer:')[-1].strip()\n",
    "    else:\n",
    "        answer_parsed = result_text.strip()  # 기본적으로 텍스트 전체를 반환\n",
    "\n",
    "    return answer_parsed\n",
    "\n",
    "answer_to_query(query)"
   ]
  },
  {
   "cell_type": "code",
   "execution_count": 23,
   "metadata": {},
   "outputs": [
    {
     "data": {
      "text/plain": [
       "'최근 한국은행이 기준금리를 조정한 이유는 대내외적인 정책 여건을 고려했기 때문입니다. 구체적으로는 물가 상승률이 둔화되었지만 여전히 목표를 상회하는 오름세가 이어지고 있었고, 경기와 금융안정 측면의 리스크가 존재하며, 가계부채 추이, 미국 연방준비제도의 통화정책, 지정학적 리스크 등의 높은 불확실성이 지속되고 있었기 때문입니다. 이러한 요인들을 고려하여 한국은행은 기준금리를 긴축적인 수준에서 유지하고, 기존의 3.0% 포인트 인상의 파급 효과를 점검하면서 추가 인상 필요성을 판단해 나갔습니다.'"
      ]
     },
     "execution_count": 23,
     "metadata": {},
     "output_type": "execute_result"
    }
   ],
   "source": [
    "answer_to_query('최근 한국은행이 기준금리를 조정한 이유는 무엇인가요?')"
   ]
  },
  {
   "cell_type": "code",
   "execution_count": 19,
   "metadata": {},
   "outputs": [
    {
     "name": "stdout",
     "output_type": "stream",
     "text": [
      "Running on local URL:  http://127.0.0.1:7860\n"
     ]
    },
    {
     "name": "stderr",
     "output_type": "stream",
     "text": [
      "huggingface/tokenizers: The current process just got forked, after parallelism has already been used. Disabling parallelism to avoid deadlocks...\n",
      "To disable this warning, you can either:\n",
      "\t- Avoid using `tokenizers` before the fork if possible\n",
      "\t- Explicitly set the environment variable TOKENIZERS_PARALLELISM=(true | false)\n"
     ]
    },
    {
     "name": "stdout",
     "output_type": "stream",
     "text": [
      "Running on public URL: https://b8faf96c94e08e7028.gradio.live\n",
      "\n",
      "This share link expires in 72 hours. For free permanent hosting and GPU upgrades, run `gradio deploy` from Terminal to deploy to Spaces (https://huggingface.co/spaces)\n"
     ]
    },
    {
     "data": {
      "text/html": [
       "<div><iframe src=\"https://b8faf96c94e08e7028.gradio.live\" width=\"100%\" height=\"500\" allow=\"autoplay; camera; microphone; clipboard-read; clipboard-write;\" frameborder=\"0\" allowfullscreen></iframe></div>"
      ],
      "text/plain": [
       "<IPython.core.display.HTML object>"
      ]
     },
     "metadata": {},
     "output_type": "display_data"
    },
    {
     "data": {
      "text/plain": []
     },
     "execution_count": 19,
     "metadata": {},
     "output_type": "execute_result"
    },
    {
     "name": "stderr",
     "output_type": "stream",
     "text": [
      "Matplotlib created a temporary cache directory at /var/folders/hw/9m3g7fvn4_l3rp2y473km9sm0000gn/T/matplotlib-8lzqjkiu because the default path (/Users/jaesolshin/.matplotlib) is not a writable directory; it is highly recommended to set the MPLCONFIGDIR environment variable to a writable directory, in particular to speed up the import of Matplotlib and to better support multiprocessing.\n"
     ]
    }
   ],
   "source": [
    "import gradio as gr\n",
    "from langchain.chains import RetrievalQA\n",
    "\n",
    "# Retriever 설정 (database 및 huggingface_llm은 미리 정의되어 있어야 함)\n",
    "retriever = database.as_retriever()  # 데이터베이스를 Retriever로 변환\n",
    "\n",
    "# RetrievalQA 초기화\n",
    "get_answer = RetrievalQA.from_llm(\n",
    "    llm=chat,  # Chat models를 지정\n",
    "    retriever=retriever,  # Retriever를 지정\n",
    "    return_source_documents=False  # 응답에 원본 문서를 포함할지 결정\n",
    ")\n",
    "\n",
    "# 질문에 대한 답변 생성 함수 (RetrievalQA 활용)\n",
    "def chat_with_retrieval(message, history):\n",
    "    # 사용자의 질문에 대해 RetrievalQA를 사용하여 답변 생성\n",
    "    response = get_answer(message)\n",
    "    result_text = response.get('result', '')\n",
    "\n",
    "    # 리스트일 경우 이를 하나의 문자열로 변환\n",
    "    if isinstance(result_text, list):\n",
    "        result_text = ' '.join([str(item) for item in result_text])\n",
    "\n",
    "    # 특정 텍스트 패턴 제거 로직\n",
    "    if 'Helpful Answer:\\n' in result_text:\n",
    "        parts = result_text.split('Helpful Answer:\\n')\n",
    "        answer_parsed = parts[1].strip() if len(parts) > 1 else parts[0].strip()\n",
    "    elif 'Answer:' in result_text:\n",
    "        answer_parsed = result_text.split('Answer:')[-1].strip()\n",
    "    else:\n",
    "        answer_parsed = result_text.strip()\n",
    "\n",
    "\n",
    "    # 불필요한 패턴 (공백 + 문자 + :) 제거. 해당 패턴 이후 내용 제거\n",
    "    # 정규 표현식으로 공백 뒤에 [문자]: 형태를 탐색하여 그 뒤를 제거\n",
    "    answer_parsed  = re.split(r\"\\s\\w+:\", answer_parsed)[0].strip()\n",
    "    \n",
    "    # 질문과 답변을 히스토리에 저장 (history는 대화 히스토리)\n",
    "    history.append((message, answer_parsed))  \n",
    "    \n",
    "    # Gradio가 (응답, history)를 반환해야 하므로, 대화 기록과 함께 반환\n",
    "    return history, history\n",
    "\n",
    "# Gradio Chatbot 인터페이스 생성\n",
    "with gr.Blocks() as demo:\n",
    "    chatbot = gr.Chatbot()  # 대화 기록을 표시하는 컴포넌트\n",
    "    msg = gr.Textbox(label=\"질문 입력\")  # 질문 입력을 위한 텍스트 박스\n",
    "    clear = gr.Button(\"대화 기록 초기화\")  # 대화 기록 초기화 버튼\n",
    "\n",
    "    # 대화가 시작될 때 실행할 동작 정의\n",
    "    msg.submit(chat_with_retrieval, inputs=[msg, chatbot], outputs=[chatbot, chatbot])\n",
    "\n",
    "    # 기록 초기화 버튼 동작 정의\n",
    "    clear.click(lambda: None, None, chatbot, queue=False)\n",
    "\n",
    "# 앱 실행\n",
    "demo.launch(share=True)\n"
   ]
  },
  {
   "cell_type": "code",
   "execution_count": 20,
   "metadata": {},
   "outputs": [
    {
     "ename": "NameError",
     "evalue": "name 'PromptTemplate' is not defined",
     "output_type": "error",
     "traceback": [
      "\u001b[0;31m---------------------------------------------------------------------------\u001b[0m",
      "\u001b[0;31mNameError\u001b[0m                                 Traceback (most recent call last)",
      "Cell \u001b[0;32mIn[20], line 14\u001b[0m\n\u001b[1;32m      7\u001b[0m \u001b[38;5;28;01mfor\u001b[39;00m i, result \u001b[38;5;129;01min\u001b[39;00m \u001b[38;5;28menumerate\u001b[39m(results):\n\u001b[1;32m      8\u001b[0m     context \u001b[38;5;241m+\u001b[39m\u001b[38;5;241m=\u001b[39m \u001b[38;5;124mf\u001b[39m\u001b[38;5;124m\"\"\"\u001b[39m\n\u001b[1;32m      9\u001b[0m \u001b[38;5;124m-----------------------------------\u001b[39m\n\u001b[1;32m     10\u001b[0m \u001b[38;5;124mDoc \u001b[39m\u001b[38;5;132;01m{\u001b[39;00mi\u001b[38;5;241m+\u001b[39m\u001b[38;5;241m1\u001b[39m\u001b[38;5;132;01m}\u001b[39;00m\u001b[38;5;124m:\u001b[39m\n\u001b[1;32m     11\u001b[0m \u001b[38;5;132;01m{\u001b[39;00mresult\u001b[38;5;241m.\u001b[39mpage_content\u001b[38;5;132;01m}\u001b[39;00m\n\u001b[1;32m     12\u001b[0m \u001b[38;5;124m\"\"\"\u001b[39m\n\u001b[0;32m---> 14\u001b[0m prompt \u001b[38;5;241m=\u001b[39m \u001b[43mPromptTemplate\u001b[49m(\n\u001b[1;32m     15\u001b[0m     template\u001b[38;5;241m=\u001b[39m\u001b[38;5;124m\"\"\"\u001b[39m\u001b[38;5;124m경제전문가로서 다음 주어진 정보를 바탕으로 질문에 응답하시오. 1) 하나의 완결된 문장으로 작성. 중간에 끊기지 않도록 문장을 완성할 것. 2) 필요한 정보를 모두 담도록 할 것. 3) 출처를 명확히 제시할 것. 4) 개조식으로 작성하지 말 것\u001b[39m\n\u001b[1;32m     16\u001b[0m \n\u001b[1;32m     17\u001b[0m \u001b[38;5;124m***Information***\u001b[39m\n\u001b[1;32m     18\u001b[0m \u001b[38;5;132;01m{document}\u001b[39;00m\n\u001b[1;32m     19\u001b[0m \n\u001b[1;32m     20\u001b[0m \u001b[38;5;124m***Question***\u001b[39m\n\u001b[1;32m     21\u001b[0m \u001b[38;5;132;01m{query}\u001b[39;00m\u001b[38;5;124m \u001b[39m\n\u001b[1;32m     22\u001b[0m \n\u001b[1;32m     23\u001b[0m \n\u001b[1;32m     24\u001b[0m \u001b[38;5;124m***Answer***\u001b[39m\u001b[38;5;124m\"\"\"\u001b[39m,\n\u001b[1;32m     25\u001b[0m     input_variables\u001b[38;5;241m=\u001b[39m[\u001b[38;5;124m'\u001b[39m\u001b[38;5;124mdocument\u001b[39m\u001b[38;5;124m'\u001b[39m, \u001b[38;5;124m'\u001b[39m\u001b[38;5;124mquery\u001b[39m\u001b[38;5;124m'\u001b[39m]\n\u001b[1;32m     26\u001b[0m )\n\u001b[1;32m     28\u001b[0m prompt \u001b[38;5;241m=\u001b[39m prompt\u001b[38;5;241m.\u001b[39mformat(document\u001b[38;5;241m=\u001b[39mcontext, query\u001b[38;5;241m=\u001b[39mquery)\n\u001b[1;32m     29\u001b[0m \u001b[38;5;28mprint\u001b[39m(prompt)\n",
      "\u001b[0;31mNameError\u001b[0m: name 'PromptTemplate' is not defined"
     ]
    }
   ],
   "source": [
    "query = \"2023년 통화정책의 가장 중요한 목표와 고려사항은?\"\n",
    "\n",
    "results = database.similarity_search(query, k=5) \n",
    "\n",
    "context = \"Relevant documents:\\n\"  #조회를 통해 얻은 정보를 저장할 변수 초기화\n",
    "\n",
    "for i, result in enumerate(results):\n",
    "    context += f\"\"\"\n",
    "-----------------------------------\n",
    "Doc {i+1}:\n",
    "{result.page_content}\n",
    "\"\"\"\n",
    "\n",
    "prompt = PromptTemplate(\n",
    "    template=\"\"\"경제전문가로서 다음 주어진 정보를 바탕으로 질문에 응답하시오. 1) 하나의 완결된 문장으로 작성. 중간에 끊기지 않도록 문장을 완성할 것. 2) 필요한 정보를 모두 담도록 할 것. 3) 출처를 명확히 제시할 것. 4) 개조식으로 작성하지 말 것\n",
    "\n",
    "***Information***\n",
    "{document}\n",
    "\n",
    "***Question***\n",
    "{query} \n",
    "\n",
    "\n",
    "***Answer***\"\"\",\n",
    "    input_variables=['document', 'query']\n",
    ")\n",
    "\n",
    "prompt = prompt.format(document=context, query=query)\n",
    "print(prompt)"
   ]
  },
  {
   "cell_type": "code",
   "execution_count": 25,
   "metadata": {},
   "outputs": [
    {
     "name": "stdout",
     "output_type": "stream",
     "text": [
      "Running on local URL:  http://127.0.0.1:7862\n"
     ]
    },
    {
     "name": "stderr",
     "output_type": "stream",
     "text": [
      "huggingface/tokenizers: The current process just got forked, after parallelism has already been used. Disabling parallelism to avoid deadlocks...\n",
      "To disable this warning, you can either:\n",
      "\t- Avoid using `tokenizers` before the fork if possible\n",
      "\t- Explicitly set the environment variable TOKENIZERS_PARALLELISM=(true | false)\n"
     ]
    },
    {
     "name": "stdout",
     "output_type": "stream",
     "text": [
      "Running on public URL: https://1da2fea5d23b6a01b6.gradio.live\n",
      "\n",
      "This share link expires in 72 hours. For free permanent hosting and GPU upgrades, run `gradio deploy` from Terminal to deploy to Spaces (https://huggingface.co/spaces)\n"
     ]
    },
    {
     "data": {
      "text/html": [
       "<div><iframe src=\"https://1da2fea5d23b6a01b6.gradio.live\" width=\"100%\" height=\"500\" allow=\"autoplay; camera; microphone; clipboard-read; clipboard-write;\" frameborder=\"0\" allowfullscreen></iframe></div>"
      ],
      "text/plain": [
       "<IPython.core.display.HTML object>"
      ]
     },
     "metadata": {},
     "output_type": "display_data"
    },
    {
     "data": {
      "text/plain": []
     },
     "execution_count": 25,
     "metadata": {},
     "output_type": "execute_result"
    }
   ],
   "source": [
    "import gradio as gr\n",
    "import re\n",
    "from langchain.chains import RetrievalQA\n",
    "from langchain.prompts import PromptTemplate\n",
    "\n",
    "# Retriever 설정 (database 및 huggingface_llm은 미리 정의되어 있어야 함)\n",
    "retriever = database.as_retriever()  # 데이터베이스를 Retriever로 변환\n",
    "\n",
    "# 프롬프트 템플릿 설정\n",
    "prompt_template = PromptTemplate(\n",
    "    template=\"\"\"경제전문가로서 다음 주어진 정보를 바탕으로 질문에 응답하시오. 1) 144자 정도의 완결된 문장으로 작성할 것 2) 개조식으로 작성하지 말 것.\n",
    "\n",
    "***Information***\n",
    "{documents}\n",
    "\n",
    "***Question***\n",
    "{query}\n",
    "\n",
    "***Answer***\"\"\",\n",
    "    input_variables=['documents', 'query']\n",
    ")\n",
    "\n",
    "# RetrievalQA 초기화\n",
    "get_answer = RetrievalQA.from_llm(\n",
    "    llm=chat,  # Hugging Face LLM 모델 지정\n",
    "    retriever=retriever,  # Retriever를 지정\n",
    "    return_source_documents=True  # 응답에 원본 문서를 포함할지 여부\n",
    ")\n",
    "\n",
    "# 질문에 대한 답변 생성 함수 (RetrievalQA 활용)\n",
    "def chat_with_retrieval(message, history):\n",
    "    # 사용자의 질문에 대해 RetrievalQA를 사용하여 문서 검색 및 응답 생성\n",
    "    response = get_answer(message)\n",
    "    documents = \"\\n\".join([doc.page_content for doc in response.get('source_documents', [])])\n",
    "    \n",
    "    # 프롬프트 템플릿 적용\n",
    "    prompt = prompt_template.format(documents=documents, query=message)\n",
    "    \n",
    "    # LLM을 통해 답변 생성\n",
    "    llm_response = chat.predict(prompt)  # 여기서는 LLM 호출 결과가 문자열로 반환됩니다.\n",
    "    result_text = llm_response  # 이미 문자열이므로 `get` 대신 바로 result_text로 사용\n",
    "\n",
    "    # 불필요한 패턴 제거 로직\n",
    "    if '***Answer***' in result_text: \n",
    "        answer_parsed = result_text.split('***Answer***')[-1].strip()\n",
    "    elif '***information***' in result_text:\n",
    "        answer_parsed = result_text.split('***Question***')[-1].strip()\n",
    "    elif '***Answer***' in result_text:\n",
    "        answer_parsed = result_text.split('***Answer***')[-1].strip()        \n",
    "    else:\n",
    "        answer_parsed = result_text.strip()\n",
    "\n",
    "    # 불필요한 패턴 (공백 + 문자 + :) 제거\n",
    "    answer_parsed = re.sub(r'\\s\\w+:', '', answer_parsed).strip()\n",
    "\n",
    "    # 질문과 답변을 히스토리에 저장 (history는 대화 히스토리)\n",
    "    history.append((message, answer_parsed))\n",
    "\n",
    "    # Gradio가 (응답, history)를 반환해야 하므로, 대화 기록과 함께 반환\n",
    "    return history, history\n",
    "\n",
    "# Gradio Chatbot 인터페이스 생성\n",
    "with gr.Blocks() as demo:\n",
    "    chatbot = gr.Chatbot()  # 대화 기록을 표시하는 컴포넌트\n",
    "    msg = gr.Textbox(label=\"질문 입력\")  # 질문 입력을 위한 텍스트 박스\n",
    "    clear = gr.Button(\"대화 기록 초기화\")  # 대화 기록 초기화 버튼\n",
    "\n",
    "    # 대화가 시작될 때 실행할 동작 정의\n",
    "    msg.submit(chat_with_retrieval, inputs=[msg, chatbot], outputs=[chatbot, chatbot])\n",
    "\n",
    "    # 기록 초기화 버튼 동작 정의\n",
    "    clear.click(lambda: None, None, chatbot, queue=False)\n",
    "\n",
    "# 앱 실행\n",
    "demo.launch(share=True)\n"
   ]
  },
  {
   "cell_type": "code",
   "execution_count": null,
   "metadata": {},
   "outputs": [],
   "source": []
  }
 ],
 "metadata": {
  "kernelspec": {
   "display_name": "Python 3",
   "language": "python",
   "name": "python3"
  },
  "language_info": {
   "codemirror_mode": {
    "name": "ipython",
    "version": 3
   },
   "file_extension": ".py",
   "mimetype": "text/x-python",
   "name": "python",
   "nbconvert_exporter": "python",
   "pygments_lexer": "ipython3",
   "version": "3.12.6"
  }
 },
 "nbformat": 4,
 "nbformat_minor": 2
}
